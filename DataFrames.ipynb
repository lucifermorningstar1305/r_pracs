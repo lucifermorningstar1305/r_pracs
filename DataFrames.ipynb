{
 "cells": [
  {
   "cell_type": "markdown",
   "id": "462ccea2-d2d7-4c8e-bd86-db1adbf19fbe",
   "metadata": {},
   "source": [
    "# Introduction to R-DataFrames\n",
    "\n",
    "In this notebook we learn about the following things:\n",
    "\n",
    "- The R-DataFrame Basics\n",
    "- R-DataFrames Indexing and Slicing\n",
    "- Overview of DataFrame Operations\n",
    "\n",
    "So sit tight and lets enjoy the ride 🚘"
   ]
  },
  {
   "cell_type": "markdown",
   "id": "3892577e-2c43-42c7-a8e5-a0f98327d377",
   "metadata": {},
   "source": [
    "# Table of Contents <a name=\"table\"/>\n",
    "\n",
    "1. [DataFrame Basics](#dataframe_basics)\n",
    "    - [Head and Tail](#head_tail)\n",
    "    - [Structure and Summary](#structure_summary)\n",
    "    - [Creating a DataFrame](#dataframe_creation)\n",
    "2. [Indexing and Selection](#indexing_selection)\n",
    "    - [Indexing](#indexing)\n",
    "    - [Selection](#selection)\n",
    "3. [Overview of DataFrame Operations](#overview)\n",
    "    - [Creating a DataFrame](#create_dataframe)\n",
    "    - [Reading and Writing a DataFrame](#read_write)\n",
    "    - [Getting the Information about the DataFrame](#info)\n",
    "    - [Referencing Cells](#cell)\n",
    "    - [Adding Rows](#add_rows)\n",
    "    - [Adding Columns](#add_col)\n",
    "    - [Dealing with Missing value](#miss_val)"
   ]
  },
  {
   "cell_type": "markdown",
   "id": "75d8ee88-57f3-46f9-872f-158cf1076cd5",
   "metadata": {},
   "source": [
    "# DataFrame Basics <a name=\"dataframe_basics\"/>\n",
    "\n",
    "[Jump to the Table of Contents](#table)"
   ]
  },
  {
   "cell_type": "code",
   "execution_count": 3,
   "id": "abd74cc2-83ca-4ad6-a8c4-af0504ecdebf",
   "metadata": {},
   "outputs": [
    {
     "data": {
      "text/html": [
       "<table class=\"dataframe\">\n",
       "<caption>A matrix: 50 × 8 of type dbl</caption>\n",
       "<thead>\n",
       "\t<tr><th></th><th scope=col>Population</th><th scope=col>Income</th><th scope=col>Illiteracy</th><th scope=col>Life Exp</th><th scope=col>Murder</th><th scope=col>HS Grad</th><th scope=col>Frost</th><th scope=col>Area</th></tr>\n",
       "</thead>\n",
       "<tbody>\n",
       "\t<tr><th scope=row>Alabama</th><td> 3615</td><td>3624</td><td>2.1</td><td>69.05</td><td>15.1</td><td>41.3</td><td> 20</td><td> 50708</td></tr>\n",
       "\t<tr><th scope=row>Alaska</th><td>  365</td><td>6315</td><td>1.5</td><td>69.31</td><td>11.3</td><td>66.7</td><td>152</td><td>566432</td></tr>\n",
       "\t<tr><th scope=row>Arizona</th><td> 2212</td><td>4530</td><td>1.8</td><td>70.55</td><td> 7.8</td><td>58.1</td><td> 15</td><td>113417</td></tr>\n",
       "\t<tr><th scope=row>Arkansas</th><td> 2110</td><td>3378</td><td>1.9</td><td>70.66</td><td>10.1</td><td>39.9</td><td> 65</td><td> 51945</td></tr>\n",
       "\t<tr><th scope=row>California</th><td>21198</td><td>5114</td><td>1.1</td><td>71.71</td><td>10.3</td><td>62.6</td><td> 20</td><td>156361</td></tr>\n",
       "\t<tr><th scope=row>Colorado</th><td> 2541</td><td>4884</td><td>0.7</td><td>72.06</td><td> 6.8</td><td>63.9</td><td>166</td><td>103766</td></tr>\n",
       "\t<tr><th scope=row>Connecticut</th><td> 3100</td><td>5348</td><td>1.1</td><td>72.48</td><td> 3.1</td><td>56.0</td><td>139</td><td>  4862</td></tr>\n",
       "\t<tr><th scope=row>Delaware</th><td>  579</td><td>4809</td><td>0.9</td><td>70.06</td><td> 6.2</td><td>54.6</td><td>103</td><td>  1982</td></tr>\n",
       "\t<tr><th scope=row>Florida</th><td> 8277</td><td>4815</td><td>1.3</td><td>70.66</td><td>10.7</td><td>52.6</td><td> 11</td><td> 54090</td></tr>\n",
       "\t<tr><th scope=row>Georgia</th><td> 4931</td><td>4091</td><td>2.0</td><td>68.54</td><td>13.9</td><td>40.6</td><td> 60</td><td> 58073</td></tr>\n",
       "\t<tr><th scope=row>Hawaii</th><td>  868</td><td>4963</td><td>1.9</td><td>73.60</td><td> 6.2</td><td>61.9</td><td>  0</td><td>  6425</td></tr>\n",
       "\t<tr><th scope=row>Idaho</th><td>  813</td><td>4119</td><td>0.6</td><td>71.87</td><td> 5.3</td><td>59.5</td><td>126</td><td> 82677</td></tr>\n",
       "\t<tr><th scope=row>Illinois</th><td>11197</td><td>5107</td><td>0.9</td><td>70.14</td><td>10.3</td><td>52.6</td><td>127</td><td> 55748</td></tr>\n",
       "\t<tr><th scope=row>Indiana</th><td> 5313</td><td>4458</td><td>0.7</td><td>70.88</td><td> 7.1</td><td>52.9</td><td>122</td><td> 36097</td></tr>\n",
       "\t<tr><th scope=row>Iowa</th><td> 2861</td><td>4628</td><td>0.5</td><td>72.56</td><td> 2.3</td><td>59.0</td><td>140</td><td> 55941</td></tr>\n",
       "\t<tr><th scope=row>Kansas</th><td> 2280</td><td>4669</td><td>0.6</td><td>72.58</td><td> 4.5</td><td>59.9</td><td>114</td><td> 81787</td></tr>\n",
       "\t<tr><th scope=row>Kentucky</th><td> 3387</td><td>3712</td><td>1.6</td><td>70.10</td><td>10.6</td><td>38.5</td><td> 95</td><td> 39650</td></tr>\n",
       "\t<tr><th scope=row>Louisiana</th><td> 3806</td><td>3545</td><td>2.8</td><td>68.76</td><td>13.2</td><td>42.2</td><td> 12</td><td> 44930</td></tr>\n",
       "\t<tr><th scope=row>Maine</th><td> 1058</td><td>3694</td><td>0.7</td><td>70.39</td><td> 2.7</td><td>54.7</td><td>161</td><td> 30920</td></tr>\n",
       "\t<tr><th scope=row>Maryland</th><td> 4122</td><td>5299</td><td>0.9</td><td>70.22</td><td> 8.5</td><td>52.3</td><td>101</td><td>  9891</td></tr>\n",
       "\t<tr><th scope=row>Massachusetts</th><td> 5814</td><td>4755</td><td>1.1</td><td>71.83</td><td> 3.3</td><td>58.5</td><td>103</td><td>  7826</td></tr>\n",
       "\t<tr><th scope=row>Michigan</th><td> 9111</td><td>4751</td><td>0.9</td><td>70.63</td><td>11.1</td><td>52.8</td><td>125</td><td> 56817</td></tr>\n",
       "\t<tr><th scope=row>Minnesota</th><td> 3921</td><td>4675</td><td>0.6</td><td>72.96</td><td> 2.3</td><td>57.6</td><td>160</td><td> 79289</td></tr>\n",
       "\t<tr><th scope=row>Mississippi</th><td> 2341</td><td>3098</td><td>2.4</td><td>68.09</td><td>12.5</td><td>41.0</td><td> 50</td><td> 47296</td></tr>\n",
       "\t<tr><th scope=row>Missouri</th><td> 4767</td><td>4254</td><td>0.8</td><td>70.69</td><td> 9.3</td><td>48.8</td><td>108</td><td> 68995</td></tr>\n",
       "\t<tr><th scope=row>Montana</th><td>  746</td><td>4347</td><td>0.6</td><td>70.56</td><td> 5.0</td><td>59.2</td><td>155</td><td>145587</td></tr>\n",
       "\t<tr><th scope=row>Nebraska</th><td> 1544</td><td>4508</td><td>0.6</td><td>72.60</td><td> 2.9</td><td>59.3</td><td>139</td><td> 76483</td></tr>\n",
       "\t<tr><th scope=row>Nevada</th><td>  590</td><td>5149</td><td>0.5</td><td>69.03</td><td>11.5</td><td>65.2</td><td>188</td><td>109889</td></tr>\n",
       "\t<tr><th scope=row>New Hampshire</th><td>  812</td><td>4281</td><td>0.7</td><td>71.23</td><td> 3.3</td><td>57.6</td><td>174</td><td>  9027</td></tr>\n",
       "\t<tr><th scope=row>New Jersey</th><td> 7333</td><td>5237</td><td>1.1</td><td>70.93</td><td> 5.2</td><td>52.5</td><td>115</td><td>  7521</td></tr>\n",
       "\t<tr><th scope=row>New Mexico</th><td> 1144</td><td>3601</td><td>2.2</td><td>70.32</td><td> 9.7</td><td>55.2</td><td>120</td><td>121412</td></tr>\n",
       "\t<tr><th scope=row>New York</th><td>18076</td><td>4903</td><td>1.4</td><td>70.55</td><td>10.9</td><td>52.7</td><td> 82</td><td> 47831</td></tr>\n",
       "\t<tr><th scope=row>North Carolina</th><td> 5441</td><td>3875</td><td>1.8</td><td>69.21</td><td>11.1</td><td>38.5</td><td> 80</td><td> 48798</td></tr>\n",
       "\t<tr><th scope=row>North Dakota</th><td>  637</td><td>5087</td><td>0.8</td><td>72.78</td><td> 1.4</td><td>50.3</td><td>186</td><td> 69273</td></tr>\n",
       "\t<tr><th scope=row>Ohio</th><td>10735</td><td>4561</td><td>0.8</td><td>70.82</td><td> 7.4</td><td>53.2</td><td>124</td><td> 40975</td></tr>\n",
       "\t<tr><th scope=row>Oklahoma</th><td> 2715</td><td>3983</td><td>1.1</td><td>71.42</td><td> 6.4</td><td>51.6</td><td> 82</td><td> 68782</td></tr>\n",
       "\t<tr><th scope=row>Oregon</th><td> 2284</td><td>4660</td><td>0.6</td><td>72.13</td><td> 4.2</td><td>60.0</td><td> 44</td><td> 96184</td></tr>\n",
       "\t<tr><th scope=row>Pennsylvania</th><td>11860</td><td>4449</td><td>1.0</td><td>70.43</td><td> 6.1</td><td>50.2</td><td>126</td><td> 44966</td></tr>\n",
       "\t<tr><th scope=row>Rhode Island</th><td>  931</td><td>4558</td><td>1.3</td><td>71.90</td><td> 2.4</td><td>46.4</td><td>127</td><td>  1049</td></tr>\n",
       "\t<tr><th scope=row>South Carolina</th><td> 2816</td><td>3635</td><td>2.3</td><td>67.96</td><td>11.6</td><td>37.8</td><td> 65</td><td> 30225</td></tr>\n",
       "\t<tr><th scope=row>South Dakota</th><td>  681</td><td>4167</td><td>0.5</td><td>72.08</td><td> 1.7</td><td>53.3</td><td>172</td><td> 75955</td></tr>\n",
       "\t<tr><th scope=row>Tennessee</th><td> 4173</td><td>3821</td><td>1.7</td><td>70.11</td><td>11.0</td><td>41.8</td><td> 70</td><td> 41328</td></tr>\n",
       "\t<tr><th scope=row>Texas</th><td>12237</td><td>4188</td><td>2.2</td><td>70.90</td><td>12.2</td><td>47.4</td><td> 35</td><td>262134</td></tr>\n",
       "\t<tr><th scope=row>Utah</th><td> 1203</td><td>4022</td><td>0.6</td><td>72.90</td><td> 4.5</td><td>67.3</td><td>137</td><td> 82096</td></tr>\n",
       "\t<tr><th scope=row>Vermont</th><td>  472</td><td>3907</td><td>0.6</td><td>71.64</td><td> 5.5</td><td>57.1</td><td>168</td><td>  9267</td></tr>\n",
       "\t<tr><th scope=row>Virginia</th><td> 4981</td><td>4701</td><td>1.4</td><td>70.08</td><td> 9.5</td><td>47.8</td><td> 85</td><td> 39780</td></tr>\n",
       "\t<tr><th scope=row>Washington</th><td> 3559</td><td>4864</td><td>0.6</td><td>71.72</td><td> 4.3</td><td>63.5</td><td> 32</td><td> 66570</td></tr>\n",
       "\t<tr><th scope=row>West Virginia</th><td> 1799</td><td>3617</td><td>1.4</td><td>69.48</td><td> 6.7</td><td>41.6</td><td>100</td><td> 24070</td></tr>\n",
       "\t<tr><th scope=row>Wisconsin</th><td> 4589</td><td>4468</td><td>0.7</td><td>72.48</td><td> 3.0</td><td>54.5</td><td>149</td><td> 54464</td></tr>\n",
       "\t<tr><th scope=row>Wyoming</th><td>  376</td><td>4566</td><td>0.6</td><td>70.29</td><td> 6.9</td><td>62.9</td><td>173</td><td> 97203</td></tr>\n",
       "</tbody>\n",
       "</table>\n"
      ],
      "text/latex": [
       "A matrix: 50 × 8 of type dbl\n",
       "\\begin{tabular}{r|llllllll}\n",
       "  & Population & Income & Illiteracy & Life Exp & Murder & HS Grad & Frost & Area\\\\\n",
       "\\hline\n",
       "\tAlabama &  3615 & 3624 & 2.1 & 69.05 & 15.1 & 41.3 &  20 &  50708\\\\\n",
       "\tAlaska &   365 & 6315 & 1.5 & 69.31 & 11.3 & 66.7 & 152 & 566432\\\\\n",
       "\tArizona &  2212 & 4530 & 1.8 & 70.55 &  7.8 & 58.1 &  15 & 113417\\\\\n",
       "\tArkansas &  2110 & 3378 & 1.9 & 70.66 & 10.1 & 39.9 &  65 &  51945\\\\\n",
       "\tCalifornia & 21198 & 5114 & 1.1 & 71.71 & 10.3 & 62.6 &  20 & 156361\\\\\n",
       "\tColorado &  2541 & 4884 & 0.7 & 72.06 &  6.8 & 63.9 & 166 & 103766\\\\\n",
       "\tConnecticut &  3100 & 5348 & 1.1 & 72.48 &  3.1 & 56.0 & 139 &   4862\\\\\n",
       "\tDelaware &   579 & 4809 & 0.9 & 70.06 &  6.2 & 54.6 & 103 &   1982\\\\\n",
       "\tFlorida &  8277 & 4815 & 1.3 & 70.66 & 10.7 & 52.6 &  11 &  54090\\\\\n",
       "\tGeorgia &  4931 & 4091 & 2.0 & 68.54 & 13.9 & 40.6 &  60 &  58073\\\\\n",
       "\tHawaii &   868 & 4963 & 1.9 & 73.60 &  6.2 & 61.9 &   0 &   6425\\\\\n",
       "\tIdaho &   813 & 4119 & 0.6 & 71.87 &  5.3 & 59.5 & 126 &  82677\\\\\n",
       "\tIllinois & 11197 & 5107 & 0.9 & 70.14 & 10.3 & 52.6 & 127 &  55748\\\\\n",
       "\tIndiana &  5313 & 4458 & 0.7 & 70.88 &  7.1 & 52.9 & 122 &  36097\\\\\n",
       "\tIowa &  2861 & 4628 & 0.5 & 72.56 &  2.3 & 59.0 & 140 &  55941\\\\\n",
       "\tKansas &  2280 & 4669 & 0.6 & 72.58 &  4.5 & 59.9 & 114 &  81787\\\\\n",
       "\tKentucky &  3387 & 3712 & 1.6 & 70.10 & 10.6 & 38.5 &  95 &  39650\\\\\n",
       "\tLouisiana &  3806 & 3545 & 2.8 & 68.76 & 13.2 & 42.2 &  12 &  44930\\\\\n",
       "\tMaine &  1058 & 3694 & 0.7 & 70.39 &  2.7 & 54.7 & 161 &  30920\\\\\n",
       "\tMaryland &  4122 & 5299 & 0.9 & 70.22 &  8.5 & 52.3 & 101 &   9891\\\\\n",
       "\tMassachusetts &  5814 & 4755 & 1.1 & 71.83 &  3.3 & 58.5 & 103 &   7826\\\\\n",
       "\tMichigan &  9111 & 4751 & 0.9 & 70.63 & 11.1 & 52.8 & 125 &  56817\\\\\n",
       "\tMinnesota &  3921 & 4675 & 0.6 & 72.96 &  2.3 & 57.6 & 160 &  79289\\\\\n",
       "\tMississippi &  2341 & 3098 & 2.4 & 68.09 & 12.5 & 41.0 &  50 &  47296\\\\\n",
       "\tMissouri &  4767 & 4254 & 0.8 & 70.69 &  9.3 & 48.8 & 108 &  68995\\\\\n",
       "\tMontana &   746 & 4347 & 0.6 & 70.56 &  5.0 & 59.2 & 155 & 145587\\\\\n",
       "\tNebraska &  1544 & 4508 & 0.6 & 72.60 &  2.9 & 59.3 & 139 &  76483\\\\\n",
       "\tNevada &   590 & 5149 & 0.5 & 69.03 & 11.5 & 65.2 & 188 & 109889\\\\\n",
       "\tNew Hampshire &   812 & 4281 & 0.7 & 71.23 &  3.3 & 57.6 & 174 &   9027\\\\\n",
       "\tNew Jersey &  7333 & 5237 & 1.1 & 70.93 &  5.2 & 52.5 & 115 &   7521\\\\\n",
       "\tNew Mexico &  1144 & 3601 & 2.2 & 70.32 &  9.7 & 55.2 & 120 & 121412\\\\\n",
       "\tNew York & 18076 & 4903 & 1.4 & 70.55 & 10.9 & 52.7 &  82 &  47831\\\\\n",
       "\tNorth Carolina &  5441 & 3875 & 1.8 & 69.21 & 11.1 & 38.5 &  80 &  48798\\\\\n",
       "\tNorth Dakota &   637 & 5087 & 0.8 & 72.78 &  1.4 & 50.3 & 186 &  69273\\\\\n",
       "\tOhio & 10735 & 4561 & 0.8 & 70.82 &  7.4 & 53.2 & 124 &  40975\\\\\n",
       "\tOklahoma &  2715 & 3983 & 1.1 & 71.42 &  6.4 & 51.6 &  82 &  68782\\\\\n",
       "\tOregon &  2284 & 4660 & 0.6 & 72.13 &  4.2 & 60.0 &  44 &  96184\\\\\n",
       "\tPennsylvania & 11860 & 4449 & 1.0 & 70.43 &  6.1 & 50.2 & 126 &  44966\\\\\n",
       "\tRhode Island &   931 & 4558 & 1.3 & 71.90 &  2.4 & 46.4 & 127 &   1049\\\\\n",
       "\tSouth Carolina &  2816 & 3635 & 2.3 & 67.96 & 11.6 & 37.8 &  65 &  30225\\\\\n",
       "\tSouth Dakota &   681 & 4167 & 0.5 & 72.08 &  1.7 & 53.3 & 172 &  75955\\\\\n",
       "\tTennessee &  4173 & 3821 & 1.7 & 70.11 & 11.0 & 41.8 &  70 &  41328\\\\\n",
       "\tTexas & 12237 & 4188 & 2.2 & 70.90 & 12.2 & 47.4 &  35 & 262134\\\\\n",
       "\tUtah &  1203 & 4022 & 0.6 & 72.90 &  4.5 & 67.3 & 137 &  82096\\\\\n",
       "\tVermont &   472 & 3907 & 0.6 & 71.64 &  5.5 & 57.1 & 168 &   9267\\\\\n",
       "\tVirginia &  4981 & 4701 & 1.4 & 70.08 &  9.5 & 47.8 &  85 &  39780\\\\\n",
       "\tWashington &  3559 & 4864 & 0.6 & 71.72 &  4.3 & 63.5 &  32 &  66570\\\\\n",
       "\tWest Virginia &  1799 & 3617 & 1.4 & 69.48 &  6.7 & 41.6 & 100 &  24070\\\\\n",
       "\tWisconsin &  4589 & 4468 & 0.7 & 72.48 &  3.0 & 54.5 & 149 &  54464\\\\\n",
       "\tWyoming &   376 & 4566 & 0.6 & 70.29 &  6.9 & 62.9 & 173 &  97203\\\\\n",
       "\\end{tabular}\n"
      ],
      "text/markdown": [
       "\n",
       "A matrix: 50 × 8 of type dbl\n",
       "\n",
       "| <!--/--> | Population | Income | Illiteracy | Life Exp | Murder | HS Grad | Frost | Area |\n",
       "|---|---|---|---|---|---|---|---|---|\n",
       "| Alabama |  3615 | 3624 | 2.1 | 69.05 | 15.1 | 41.3 |  20 |  50708 |\n",
       "| Alaska |   365 | 6315 | 1.5 | 69.31 | 11.3 | 66.7 | 152 | 566432 |\n",
       "| Arizona |  2212 | 4530 | 1.8 | 70.55 |  7.8 | 58.1 |  15 | 113417 |\n",
       "| Arkansas |  2110 | 3378 | 1.9 | 70.66 | 10.1 | 39.9 |  65 |  51945 |\n",
       "| California | 21198 | 5114 | 1.1 | 71.71 | 10.3 | 62.6 |  20 | 156361 |\n",
       "| Colorado |  2541 | 4884 | 0.7 | 72.06 |  6.8 | 63.9 | 166 | 103766 |\n",
       "| Connecticut |  3100 | 5348 | 1.1 | 72.48 |  3.1 | 56.0 | 139 |   4862 |\n",
       "| Delaware |   579 | 4809 | 0.9 | 70.06 |  6.2 | 54.6 | 103 |   1982 |\n",
       "| Florida |  8277 | 4815 | 1.3 | 70.66 | 10.7 | 52.6 |  11 |  54090 |\n",
       "| Georgia |  4931 | 4091 | 2.0 | 68.54 | 13.9 | 40.6 |  60 |  58073 |\n",
       "| Hawaii |   868 | 4963 | 1.9 | 73.60 |  6.2 | 61.9 |   0 |   6425 |\n",
       "| Idaho |   813 | 4119 | 0.6 | 71.87 |  5.3 | 59.5 | 126 |  82677 |\n",
       "| Illinois | 11197 | 5107 | 0.9 | 70.14 | 10.3 | 52.6 | 127 |  55748 |\n",
       "| Indiana |  5313 | 4458 | 0.7 | 70.88 |  7.1 | 52.9 | 122 |  36097 |\n",
       "| Iowa |  2861 | 4628 | 0.5 | 72.56 |  2.3 | 59.0 | 140 |  55941 |\n",
       "| Kansas |  2280 | 4669 | 0.6 | 72.58 |  4.5 | 59.9 | 114 |  81787 |\n",
       "| Kentucky |  3387 | 3712 | 1.6 | 70.10 | 10.6 | 38.5 |  95 |  39650 |\n",
       "| Louisiana |  3806 | 3545 | 2.8 | 68.76 | 13.2 | 42.2 |  12 |  44930 |\n",
       "| Maine |  1058 | 3694 | 0.7 | 70.39 |  2.7 | 54.7 | 161 |  30920 |\n",
       "| Maryland |  4122 | 5299 | 0.9 | 70.22 |  8.5 | 52.3 | 101 |   9891 |\n",
       "| Massachusetts |  5814 | 4755 | 1.1 | 71.83 |  3.3 | 58.5 | 103 |   7826 |\n",
       "| Michigan |  9111 | 4751 | 0.9 | 70.63 | 11.1 | 52.8 | 125 |  56817 |\n",
       "| Minnesota |  3921 | 4675 | 0.6 | 72.96 |  2.3 | 57.6 | 160 |  79289 |\n",
       "| Mississippi |  2341 | 3098 | 2.4 | 68.09 | 12.5 | 41.0 |  50 |  47296 |\n",
       "| Missouri |  4767 | 4254 | 0.8 | 70.69 |  9.3 | 48.8 | 108 |  68995 |\n",
       "| Montana |   746 | 4347 | 0.6 | 70.56 |  5.0 | 59.2 | 155 | 145587 |\n",
       "| Nebraska |  1544 | 4508 | 0.6 | 72.60 |  2.9 | 59.3 | 139 |  76483 |\n",
       "| Nevada |   590 | 5149 | 0.5 | 69.03 | 11.5 | 65.2 | 188 | 109889 |\n",
       "| New Hampshire |   812 | 4281 | 0.7 | 71.23 |  3.3 | 57.6 | 174 |   9027 |\n",
       "| New Jersey |  7333 | 5237 | 1.1 | 70.93 |  5.2 | 52.5 | 115 |   7521 |\n",
       "| New Mexico |  1144 | 3601 | 2.2 | 70.32 |  9.7 | 55.2 | 120 | 121412 |\n",
       "| New York | 18076 | 4903 | 1.4 | 70.55 | 10.9 | 52.7 |  82 |  47831 |\n",
       "| North Carolina |  5441 | 3875 | 1.8 | 69.21 | 11.1 | 38.5 |  80 |  48798 |\n",
       "| North Dakota |   637 | 5087 | 0.8 | 72.78 |  1.4 | 50.3 | 186 |  69273 |\n",
       "| Ohio | 10735 | 4561 | 0.8 | 70.82 |  7.4 | 53.2 | 124 |  40975 |\n",
       "| Oklahoma |  2715 | 3983 | 1.1 | 71.42 |  6.4 | 51.6 |  82 |  68782 |\n",
       "| Oregon |  2284 | 4660 | 0.6 | 72.13 |  4.2 | 60.0 |  44 |  96184 |\n",
       "| Pennsylvania | 11860 | 4449 | 1.0 | 70.43 |  6.1 | 50.2 | 126 |  44966 |\n",
       "| Rhode Island |   931 | 4558 | 1.3 | 71.90 |  2.4 | 46.4 | 127 |   1049 |\n",
       "| South Carolina |  2816 | 3635 | 2.3 | 67.96 | 11.6 | 37.8 |  65 |  30225 |\n",
       "| South Dakota |   681 | 4167 | 0.5 | 72.08 |  1.7 | 53.3 | 172 |  75955 |\n",
       "| Tennessee |  4173 | 3821 | 1.7 | 70.11 | 11.0 | 41.8 |  70 |  41328 |\n",
       "| Texas | 12237 | 4188 | 2.2 | 70.90 | 12.2 | 47.4 |  35 | 262134 |\n",
       "| Utah |  1203 | 4022 | 0.6 | 72.90 |  4.5 | 67.3 | 137 |  82096 |\n",
       "| Vermont |   472 | 3907 | 0.6 | 71.64 |  5.5 | 57.1 | 168 |   9267 |\n",
       "| Virginia |  4981 | 4701 | 1.4 | 70.08 |  9.5 | 47.8 |  85 |  39780 |\n",
       "| Washington |  3559 | 4864 | 0.6 | 71.72 |  4.3 | 63.5 |  32 |  66570 |\n",
       "| West Virginia |  1799 | 3617 | 1.4 | 69.48 |  6.7 | 41.6 | 100 |  24070 |\n",
       "| Wisconsin |  4589 | 4468 | 0.7 | 72.48 |  3.0 | 54.5 | 149 |  54464 |\n",
       "| Wyoming |   376 | 4566 | 0.6 | 70.29 |  6.9 | 62.9 | 173 |  97203 |\n",
       "\n"
      ],
      "text/plain": [
       "               Population Income Illiteracy Life Exp Murder HS Grad Frost\n",
       "Alabama         3615      3624   2.1        69.05    15.1   41.3     20  \n",
       "Alaska           365      6315   1.5        69.31    11.3   66.7    152  \n",
       "Arizona         2212      4530   1.8        70.55     7.8   58.1     15  \n",
       "Arkansas        2110      3378   1.9        70.66    10.1   39.9     65  \n",
       "California     21198      5114   1.1        71.71    10.3   62.6     20  \n",
       "Colorado        2541      4884   0.7        72.06     6.8   63.9    166  \n",
       "Connecticut     3100      5348   1.1        72.48     3.1   56.0    139  \n",
       "Delaware         579      4809   0.9        70.06     6.2   54.6    103  \n",
       "Florida         8277      4815   1.3        70.66    10.7   52.6     11  \n",
       "Georgia         4931      4091   2.0        68.54    13.9   40.6     60  \n",
       "Hawaii           868      4963   1.9        73.60     6.2   61.9      0  \n",
       "Idaho            813      4119   0.6        71.87     5.3   59.5    126  \n",
       "Illinois       11197      5107   0.9        70.14    10.3   52.6    127  \n",
       "Indiana         5313      4458   0.7        70.88     7.1   52.9    122  \n",
       "Iowa            2861      4628   0.5        72.56     2.3   59.0    140  \n",
       "Kansas          2280      4669   0.6        72.58     4.5   59.9    114  \n",
       "Kentucky        3387      3712   1.6        70.10    10.6   38.5     95  \n",
       "Louisiana       3806      3545   2.8        68.76    13.2   42.2     12  \n",
       "Maine           1058      3694   0.7        70.39     2.7   54.7    161  \n",
       "Maryland        4122      5299   0.9        70.22     8.5   52.3    101  \n",
       "Massachusetts   5814      4755   1.1        71.83     3.3   58.5    103  \n",
       "Michigan        9111      4751   0.9        70.63    11.1   52.8    125  \n",
       "Minnesota       3921      4675   0.6        72.96     2.3   57.6    160  \n",
       "Mississippi     2341      3098   2.4        68.09    12.5   41.0     50  \n",
       "Missouri        4767      4254   0.8        70.69     9.3   48.8    108  \n",
       "Montana          746      4347   0.6        70.56     5.0   59.2    155  \n",
       "Nebraska        1544      4508   0.6        72.60     2.9   59.3    139  \n",
       "Nevada           590      5149   0.5        69.03    11.5   65.2    188  \n",
       "New Hampshire    812      4281   0.7        71.23     3.3   57.6    174  \n",
       "New Jersey      7333      5237   1.1        70.93     5.2   52.5    115  \n",
       "New Mexico      1144      3601   2.2        70.32     9.7   55.2    120  \n",
       "New York       18076      4903   1.4        70.55    10.9   52.7     82  \n",
       "North Carolina  5441      3875   1.8        69.21    11.1   38.5     80  \n",
       "North Dakota     637      5087   0.8        72.78     1.4   50.3    186  \n",
       "Ohio           10735      4561   0.8        70.82     7.4   53.2    124  \n",
       "Oklahoma        2715      3983   1.1        71.42     6.4   51.6     82  \n",
       "Oregon          2284      4660   0.6        72.13     4.2   60.0     44  \n",
       "Pennsylvania   11860      4449   1.0        70.43     6.1   50.2    126  \n",
       "Rhode Island     931      4558   1.3        71.90     2.4   46.4    127  \n",
       "South Carolina  2816      3635   2.3        67.96    11.6   37.8     65  \n",
       "South Dakota     681      4167   0.5        72.08     1.7   53.3    172  \n",
       "Tennessee       4173      3821   1.7        70.11    11.0   41.8     70  \n",
       "Texas          12237      4188   2.2        70.90    12.2   47.4     35  \n",
       "Utah            1203      4022   0.6        72.90     4.5   67.3    137  \n",
       "Vermont          472      3907   0.6        71.64     5.5   57.1    168  \n",
       "Virginia        4981      4701   1.4        70.08     9.5   47.8     85  \n",
       "Washington      3559      4864   0.6        71.72     4.3   63.5     32  \n",
       "West Virginia   1799      3617   1.4        69.48     6.7   41.6    100  \n",
       "Wisconsin       4589      4468   0.7        72.48     3.0   54.5    149  \n",
       "Wyoming          376      4566   0.6        70.29     6.9   62.9    173  \n",
       "               Area  \n",
       "Alabama         50708\n",
       "Alaska         566432\n",
       "Arizona        113417\n",
       "Arkansas        51945\n",
       "California     156361\n",
       "Colorado       103766\n",
       "Connecticut      4862\n",
       "Delaware         1982\n",
       "Florida         54090\n",
       "Georgia         58073\n",
       "Hawaii           6425\n",
       "Idaho           82677\n",
       "Illinois        55748\n",
       "Indiana         36097\n",
       "Iowa            55941\n",
       "Kansas          81787\n",
       "Kentucky        39650\n",
       "Louisiana       44930\n",
       "Maine           30920\n",
       "Maryland         9891\n",
       "Massachusetts    7826\n",
       "Michigan        56817\n",
       "Minnesota       79289\n",
       "Mississippi     47296\n",
       "Missouri        68995\n",
       "Montana        145587\n",
       "Nebraska        76483\n",
       "Nevada         109889\n",
       "New Hampshire    9027\n",
       "New Jersey       7521\n",
       "New Mexico     121412\n",
       "New York        47831\n",
       "North Carolina  48798\n",
       "North Dakota    69273\n",
       "Ohio            40975\n",
       "Oklahoma        68782\n",
       "Oregon          96184\n",
       "Pennsylvania    44966\n",
       "Rhode Island     1049\n",
       "South Carolina  30225\n",
       "South Dakota    75955\n",
       "Tennessee       41328\n",
       "Texas          262134\n",
       "Utah            82096\n",
       "Vermont          9267\n",
       "Virginia        39780\n",
       "Washington      66570\n",
       "West Virginia   24070\n",
       "Wisconsin       54464\n",
       "Wyoming         97203"
      ]
     },
     "metadata": {},
     "output_type": "display_data"
    }
   ],
   "source": [
    "state.x77"
   ]
  },
  {
   "cell_type": "code",
   "execution_count": 4,
   "id": "4d7f2984-6a22-4fcb-a5bb-360fdf97a061",
   "metadata": {},
   "outputs": [
    {
     "data": {
      "text/html": [
       "<table class=\"dataframe\">\n",
       "<caption>A data.frame: 15 × 2</caption>\n",
       "<thead>\n",
       "\t<tr><th scope=col>height</th><th scope=col>weight</th></tr>\n",
       "\t<tr><th scope=col>&lt;dbl&gt;</th><th scope=col>&lt;dbl&gt;</th></tr>\n",
       "</thead>\n",
       "<tbody>\n",
       "\t<tr><td>58</td><td>115</td></tr>\n",
       "\t<tr><td>59</td><td>117</td></tr>\n",
       "\t<tr><td>60</td><td>120</td></tr>\n",
       "\t<tr><td>61</td><td>123</td></tr>\n",
       "\t<tr><td>62</td><td>126</td></tr>\n",
       "\t<tr><td>63</td><td>129</td></tr>\n",
       "\t<tr><td>64</td><td>132</td></tr>\n",
       "\t<tr><td>65</td><td>135</td></tr>\n",
       "\t<tr><td>66</td><td>139</td></tr>\n",
       "\t<tr><td>67</td><td>142</td></tr>\n",
       "\t<tr><td>68</td><td>146</td></tr>\n",
       "\t<tr><td>69</td><td>150</td></tr>\n",
       "\t<tr><td>70</td><td>154</td></tr>\n",
       "\t<tr><td>71</td><td>159</td></tr>\n",
       "\t<tr><td>72</td><td>164</td></tr>\n",
       "</tbody>\n",
       "</table>\n"
      ],
      "text/latex": [
       "A data.frame: 15 × 2\n",
       "\\begin{tabular}{ll}\n",
       " height & weight\\\\\n",
       " <dbl> & <dbl>\\\\\n",
       "\\hline\n",
       "\t 58 & 115\\\\\n",
       "\t 59 & 117\\\\\n",
       "\t 60 & 120\\\\\n",
       "\t 61 & 123\\\\\n",
       "\t 62 & 126\\\\\n",
       "\t 63 & 129\\\\\n",
       "\t 64 & 132\\\\\n",
       "\t 65 & 135\\\\\n",
       "\t 66 & 139\\\\\n",
       "\t 67 & 142\\\\\n",
       "\t 68 & 146\\\\\n",
       "\t 69 & 150\\\\\n",
       "\t 70 & 154\\\\\n",
       "\t 71 & 159\\\\\n",
       "\t 72 & 164\\\\\n",
       "\\end{tabular}\n"
      ],
      "text/markdown": [
       "\n",
       "A data.frame: 15 × 2\n",
       "\n",
       "| height &lt;dbl&gt; | weight &lt;dbl&gt; |\n",
       "|---|---|\n",
       "| 58 | 115 |\n",
       "| 59 | 117 |\n",
       "| 60 | 120 |\n",
       "| 61 | 123 |\n",
       "| 62 | 126 |\n",
       "| 63 | 129 |\n",
       "| 64 | 132 |\n",
       "| 65 | 135 |\n",
       "| 66 | 139 |\n",
       "| 67 | 142 |\n",
       "| 68 | 146 |\n",
       "| 69 | 150 |\n",
       "| 70 | 154 |\n",
       "| 71 | 159 |\n",
       "| 72 | 164 |\n",
       "\n"
      ],
      "text/plain": [
       "   height weight\n",
       "1  58     115   \n",
       "2  59     117   \n",
       "3  60     120   \n",
       "4  61     123   \n",
       "5  62     126   \n",
       "6  63     129   \n",
       "7  64     132   \n",
       "8  65     135   \n",
       "9  66     139   \n",
       "10 67     142   \n",
       "11 68     146   \n",
       "12 69     150   \n",
       "13 70     154   \n",
       "14 71     159   \n",
       "15 72     164   "
      ]
     },
     "metadata": {},
     "output_type": "display_data"
    }
   ],
   "source": [
    "women"
   ]
  },
  {
   "cell_type": "code",
   "execution_count": 5,
   "id": "628baea3-99a7-4136-9475-c68afb4fbfe2",
   "metadata": {},
   "outputs": [
    {
     "data": {
      "text/html": [
       "<table class=\"dataframe\">\n",
       "<caption>A matrix: 5 × 5 of type dbl</caption>\n",
       "<thead>\n",
       "\t<tr><th></th><th scope=col>1940</th><th scope=col>1945</th><th scope=col>1950</th><th scope=col>1955</th><th scope=col>1960</th></tr>\n",
       "</thead>\n",
       "<tbody>\n",
       "\t<tr><th scope=row>Food and Tobacco</th><td>22.200</td><td>44.500</td><td>59.60</td><td>73.2</td><td>86.80</td></tr>\n",
       "\t<tr><th scope=row>Household Operation</th><td>10.500</td><td>15.500</td><td>29.00</td><td>36.5</td><td>46.20</td></tr>\n",
       "\t<tr><th scope=row>Medical and Health</th><td> 3.530</td><td> 5.760</td><td> 9.71</td><td>14.0</td><td>21.10</td></tr>\n",
       "\t<tr><th scope=row>Personal Care</th><td> 1.040</td><td> 1.980</td><td> 2.45</td><td> 3.4</td><td> 5.40</td></tr>\n",
       "\t<tr><th scope=row>Private Education</th><td> 0.341</td><td> 0.974</td><td> 1.80</td><td> 2.6</td><td> 3.64</td></tr>\n",
       "</tbody>\n",
       "</table>\n"
      ],
      "text/latex": [
       "A matrix: 5 × 5 of type dbl\n",
       "\\begin{tabular}{r|lllll}\n",
       "  & 1940 & 1945 & 1950 & 1955 & 1960\\\\\n",
       "\\hline\n",
       "\tFood and Tobacco & 22.200 & 44.500 & 59.60 & 73.2 & 86.80\\\\\n",
       "\tHousehold Operation & 10.500 & 15.500 & 29.00 & 36.5 & 46.20\\\\\n",
       "\tMedical and Health &  3.530 &  5.760 &  9.71 & 14.0 & 21.10\\\\\n",
       "\tPersonal Care &  1.040 &  1.980 &  2.45 &  3.4 &  5.40\\\\\n",
       "\tPrivate Education &  0.341 &  0.974 &  1.80 &  2.6 &  3.64\\\\\n",
       "\\end{tabular}\n"
      ],
      "text/markdown": [
       "\n",
       "A matrix: 5 × 5 of type dbl\n",
       "\n",
       "| <!--/--> | 1940 | 1945 | 1950 | 1955 | 1960 |\n",
       "|---|---|---|---|---|---|\n",
       "| Food and Tobacco | 22.200 | 44.500 | 59.60 | 73.2 | 86.80 |\n",
       "| Household Operation | 10.500 | 15.500 | 29.00 | 36.5 | 46.20 |\n",
       "| Medical and Health |  3.530 |  5.760 |  9.71 | 14.0 | 21.10 |\n",
       "| Personal Care |  1.040 |  1.980 |  2.45 |  3.4 |  5.40 |\n",
       "| Private Education |  0.341 |  0.974 |  1.80 |  2.6 |  3.64 |\n",
       "\n"
      ],
      "text/plain": [
       "                    1940   1945   1950  1955 1960 \n",
       "Food and Tobacco    22.200 44.500 59.60 73.2 86.80\n",
       "Household Operation 10.500 15.500 29.00 36.5 46.20\n",
       "Medical and Health   3.530  5.760  9.71 14.0 21.10\n",
       "Personal Care        1.040  1.980  2.45  3.4  5.40\n",
       "Private Education    0.341  0.974  1.80  2.6  3.64"
      ]
     },
     "metadata": {},
     "output_type": "display_data"
    }
   ],
   "source": [
    "USPersonalExpenditure"
   ]
  },
  {
   "cell_type": "code",
   "execution_count": 6,
   "id": "7fbda6b1-a75b-40b9-accb-16fd8748b8fd",
   "metadata": {},
   "outputs": [
    {
     "data": {
      "text/html": [
       "<h3>Data sets</h3>\n",
       "<table class=\"dataframe\">\n",
       "<caption>A data.frame: 104 × 3</caption>\n",
       "<thead>\n",
       "\t<tr><th scope=col>Package</th><th scope=col>Item</th><th scope=col>Title</th></tr>\n",
       "\t<tr><th scope=col>&lt;chr&gt;</th><th scope=col>&lt;chr&gt;</th><th scope=col>&lt;chr&gt;</th></tr>\n",
       "</thead>\n",
       "<tbody>\n",
       "\t<tr><td>datasets</td><td>AirPassengers         </td><td>Monthly Airline Passenger Numbers 1949-1960                    </td></tr>\n",
       "\t<tr><td>datasets</td><td>BJsales               </td><td>Sales Data with Leading Indicator                              </td></tr>\n",
       "\t<tr><td>datasets</td><td>BJsales.lead (BJsales)</td><td>Sales Data with Leading Indicator                              </td></tr>\n",
       "\t<tr><td>datasets</td><td>BOD                   </td><td>Biochemical Oxygen Demand                                      </td></tr>\n",
       "\t<tr><td>datasets</td><td>CO2                   </td><td>Carbon Dioxide Uptake in Grass Plants                          </td></tr>\n",
       "\t<tr><td>datasets</td><td>ChickWeight           </td><td>Weight versus age of chicks on different diets                 </td></tr>\n",
       "\t<tr><td>datasets</td><td>DNase                 </td><td>Elisa assay of DNase                                           </td></tr>\n",
       "\t<tr><td>datasets</td><td>EuStockMarkets        </td><td>Daily Closing Prices of Major European Stock Indices, 1991-1998</td></tr>\n",
       "\t<tr><td>datasets</td><td>Formaldehyde          </td><td>Determination of Formaldehyde                                  </td></tr>\n",
       "\t<tr><td>datasets</td><td>HairEyeColor          </td><td>Hair and Eye Color of Statistics Students                      </td></tr>\n",
       "\t<tr><td>datasets</td><td>Harman23.cor          </td><td>Harman Example 2.3                                             </td></tr>\n",
       "\t<tr><td>datasets</td><td>Harman74.cor          </td><td>Harman Example 7.4                                             </td></tr>\n",
       "\t<tr><td>datasets</td><td>Indometh              </td><td>Pharmacokinetics of Indomethacin                               </td></tr>\n",
       "\t<tr><td>datasets</td><td>InsectSprays          </td><td>Effectiveness of Insect Sprays                                 </td></tr>\n",
       "\t<tr><td>datasets</td><td><span style=white-space:pre-wrap>JohnsonJohnson        </span></td><td><span style=white-space:pre-wrap>Quarterly Earnings per Johnson &amp; Johnson Share                 </span></td></tr>\n",
       "\t<tr><td>datasets</td><td>LakeHuron             </td><td>Level of Lake Huron 1875-1972                                  </td></tr>\n",
       "\t<tr><td>datasets</td><td>LifeCycleSavings      </td><td>Intercountry Life-Cycle Savings Data                           </td></tr>\n",
       "\t<tr><td>datasets</td><td>Loblolly              </td><td>Growth of Loblolly pine trees                                  </td></tr>\n",
       "\t<tr><td>datasets</td><td>Nile                  </td><td>Flow of the River Nile                                         </td></tr>\n",
       "\t<tr><td>datasets</td><td>Orange                </td><td>Growth of Orange Trees                                         </td></tr>\n",
       "\t<tr><td>datasets</td><td>OrchardSprays         </td><td>Potency of Orchard Sprays                                      </td></tr>\n",
       "\t<tr><td>datasets</td><td>PlantGrowth           </td><td>Results from an Experiment on Plant Growth                     </td></tr>\n",
       "\t<tr><td>datasets</td><td>Puromycin             </td><td>Reaction Velocity of an Enzymatic Reaction                     </td></tr>\n",
       "\t<tr><td>datasets</td><td>Seatbelts             </td><td>Road Casualties in Great Britain 1969-84                       </td></tr>\n",
       "\t<tr><td>datasets</td><td>Theoph                </td><td>Pharmacokinetics of Theophylline                               </td></tr>\n",
       "\t<tr><td>datasets</td><td>Titanic               </td><td>Survival of passengers on the Titanic                          </td></tr>\n",
       "\t<tr><td>datasets</td><td>ToothGrowth           </td><td>The Effect of Vitamin C on Tooth Growth in Guinea Pigs         </td></tr>\n",
       "\t<tr><td>datasets</td><td>UCBAdmissions         </td><td>Student Admissions at UC Berkeley                              </td></tr>\n",
       "\t<tr><td>datasets</td><td>UKDriverDeaths        </td><td>Road Casualties in Great Britain 1969-84                       </td></tr>\n",
       "\t<tr><td>datasets</td><td>UKgas                 </td><td>UK Quarterly Gas Consumption                                   </td></tr>\n",
       "\t<tr><td>datasets</td><td>USAccDeaths           </td><td>Accidental Deaths in the US 1973-1978                          </td></tr>\n",
       "\t<tr><td>datasets</td><td>USArrests             </td><td>Violent Crime Rates by US State                                </td></tr>\n",
       "\t<tr><td>datasets</td><td>USJudgeRatings        </td><td>Lawyers' Ratings of State Judges in the US Superior Court      </td></tr>\n",
       "\t<tr><td>datasets</td><td>USPersonalExpenditure </td><td>Personal Expenditure Data                                      </td></tr>\n",
       "\t<tr><td>datasets</td><td>UScitiesD             </td><td>Distances Between European Cities and Between US Cities        </td></tr>\n",
       "\t<tr><td>datasets</td><td>VADeaths              </td><td>Death Rates in Virginia (1940)                                 </td></tr>\n",
       "\t<tr><td>datasets</td><td>WWWusage              </td><td>Internet Usage per Minute                                      </td></tr>\n",
       "\t<tr><td>datasets</td><td>WorldPhones           </td><td>The World's Telephones                                         </td></tr>\n",
       "\t<tr><td>datasets</td><td>ability.cov           </td><td>Ability and Intelligence Tests                                 </td></tr>\n",
       "\t<tr><td>datasets</td><td>airmiles              </td><td>Passenger Miles on Commercial US Airlines, 1937-1960           </td></tr>\n",
       "\t<tr><td>datasets</td><td>airquality            </td><td>New York Air Quality Measurements                              </td></tr>\n",
       "\t<tr><td>datasets</td><td>anscombe              </td><td>Anscombe's Quartet of 'Identical' Simple Linear Regressions    </td></tr>\n",
       "\t<tr><td>datasets</td><td>attenu                </td><td>The Joyner-Boore Attenuation Data                              </td></tr>\n",
       "\t<tr><td>datasets</td><td>attitude              </td><td>The Chatterjee-Price Attitude Data                             </td></tr>\n",
       "\t<tr><td>datasets</td><td>austres               </td><td>Quarterly Time Series of the Number of Australian Residents    </td></tr>\n",
       "\t<tr><td>datasets</td><td>beaver1 (beavers)     </td><td>Body Temperature Series of Two Beavers                         </td></tr>\n",
       "\t<tr><td>datasets</td><td>beaver2 (beavers)     </td><td>Body Temperature Series of Two Beavers                         </td></tr>\n",
       "\t<tr><td>datasets</td><td>cars                  </td><td>Speed and Stopping Distances of Cars                           </td></tr>\n",
       "\t<tr><td>datasets</td><td>chickwts              </td><td>Chicken Weights by Feed Type                                   </td></tr>\n",
       "\t<tr><td>datasets</td><td>co2                   </td><td>Mauna Loa Atmospheric CO2 Concentration                        </td></tr>\n",
       "\t<tr><td>datasets</td><td>crimtab               </td><td>Student's 3000 Criminals Data                                  </td></tr>\n",
       "\t<tr><td>datasets</td><td>discoveries           </td><td>Yearly Numbers of Important Discoveries                        </td></tr>\n",
       "\t<tr><td>datasets</td><td>esoph                 </td><td>Smoking, Alcohol and (O)esophageal Cancer                      </td></tr>\n",
       "\t<tr><td>datasets</td><td>euro                  </td><td>Conversion Rates of Euro Currencies                            </td></tr>\n",
       "\t<tr><td>datasets</td><td>euro.cross (euro)     </td><td>Conversion Rates of Euro Currencies                            </td></tr>\n",
       "\t<tr><td>datasets</td><td>eurodist              </td><td>Distances Between European Cities and Between US Cities        </td></tr>\n",
       "\t<tr><td>datasets</td><td>faithful              </td><td>Old Faithful Geyser Data                                       </td></tr>\n",
       "\t<tr><td>datasets</td><td>fdeaths (UKLungDeaths)</td><td>Monthly Deaths from Lung Diseases in the UK                    </td></tr>\n",
       "\t<tr><td>datasets</td><td>freeny                </td><td>Freeny's Revenue Data                                          </td></tr>\n",
       "\t<tr><td>datasets</td><td>freeny.x (freeny)     </td><td>Freeny's Revenue Data                                          </td></tr>\n",
       "\t<tr><td>datasets</td><td>freeny.y (freeny)     </td><td>Freeny's Revenue Data                                          </td></tr>\n",
       "\t<tr><td>datasets</td><td>infert                </td><td>Infertility after Spontaneous and Induced Abortion             </td></tr>\n",
       "\t<tr><td>datasets</td><td>iris                  </td><td>Edgar Anderson's Iris Data                                     </td></tr>\n",
       "\t<tr><td>datasets</td><td>iris3                 </td><td>Edgar Anderson's Iris Data                                     </td></tr>\n",
       "\t<tr><td>datasets</td><td>islands               </td><td>Areas of the World's Major Landmasses                          </td></tr>\n",
       "\t<tr><td>datasets</td><td>ldeaths (UKLungDeaths)</td><td>Monthly Deaths from Lung Diseases in the UK                    </td></tr>\n",
       "\t<tr><td>datasets</td><td>lh                    </td><td>Luteinizing Hormone in Blood Samples                           </td></tr>\n",
       "\t<tr><td>datasets</td><td>longley               </td><td>Longley's Economic Regression Data                             </td></tr>\n",
       "\t<tr><td>datasets</td><td>lynx                  </td><td>Annual Canadian Lynx trappings 1821-1934                       </td></tr>\n",
       "\t<tr><td>datasets</td><td>mdeaths (UKLungDeaths)</td><td>Monthly Deaths from Lung Diseases in the UK                    </td></tr>\n",
       "\t<tr><td>datasets</td><td>morley                </td><td>Michelson Speed of Light Data                                  </td></tr>\n",
       "\t<tr><td>datasets</td><td>mtcars                </td><td>Motor Trend Car Road Tests                                     </td></tr>\n",
       "\t<tr><td>datasets</td><td>nhtemp                </td><td>Average Yearly Temperatures in New Haven                       </td></tr>\n",
       "\t<tr><td>datasets</td><td>nottem                </td><td>Average Monthly Temperatures at Nottingham, 1920-1939          </td></tr>\n",
       "\t<tr><td>datasets</td><td>npk                   </td><td>Classical N, P, K Factorial Experiment                         </td></tr>\n",
       "\t<tr><td>datasets</td><td>occupationalStatus    </td><td>Occupational Status of Fathers and their Sons                  </td></tr>\n",
       "\t<tr><td>datasets</td><td>precip                </td><td>Annual Precipitation in US Cities                              </td></tr>\n",
       "\t<tr><td>datasets</td><td>presidents            </td><td>Quarterly Approval Ratings of US Presidents                    </td></tr>\n",
       "\t<tr><td>datasets</td><td>pressure              </td><td>Vapor Pressure of Mercury as a Function of Temperature         </td></tr>\n",
       "\t<tr><td>datasets</td><td>quakes                </td><td>Locations of Earthquakes off Fiji                              </td></tr>\n",
       "\t<tr><td>datasets</td><td>randu                 </td><td>Random Numbers from Congruential Generator RANDU               </td></tr>\n",
       "\t<tr><td>datasets</td><td>rivers                </td><td>Lengths of Major North American Rivers                         </td></tr>\n",
       "\t<tr><td>datasets</td><td>rock                  </td><td>Measurements on Petroleum Rock Samples                         </td></tr>\n",
       "\t<tr><td>datasets</td><td>sleep                 </td><td>Student's Sleep Data                                           </td></tr>\n",
       "\t<tr><td>datasets</td><td>stack.loss (stackloss)</td><td>Brownlee's Stack Loss Plant Data                               </td></tr>\n",
       "\t<tr><td>datasets</td><td>stack.x (stackloss)   </td><td>Brownlee's Stack Loss Plant Data                               </td></tr>\n",
       "\t<tr><td>datasets</td><td>stackloss             </td><td>Brownlee's Stack Loss Plant Data                               </td></tr>\n",
       "\t<tr><td>datasets</td><td>state.abb (state)     </td><td>US State Facts and Figures                                     </td></tr>\n",
       "\t<tr><td>datasets</td><td>state.area (state)    </td><td>US State Facts and Figures                                     </td></tr>\n",
       "\t<tr><td>datasets</td><td>state.center (state)  </td><td>US State Facts and Figures                                     </td></tr>\n",
       "\t<tr><td>datasets</td><td>state.division (state)</td><td>US State Facts and Figures                                     </td></tr>\n",
       "\t<tr><td>datasets</td><td>state.name (state)    </td><td>US State Facts and Figures                                     </td></tr>\n",
       "\t<tr><td>datasets</td><td>state.region (state)  </td><td>US State Facts and Figures                                     </td></tr>\n",
       "\t<tr><td>datasets</td><td>state.x77 (state)     </td><td>US State Facts and Figures                                     </td></tr>\n",
       "\t<tr><td>datasets</td><td>sunspot.month         </td><td>Monthly Sunspot Data, from 1749 to \"Present\"                   </td></tr>\n",
       "\t<tr><td>datasets</td><td>sunspot.year          </td><td>Yearly Sunspot Data, 1700-1988                                 </td></tr>\n",
       "\t<tr><td>datasets</td><td>sunspots              </td><td>Monthly Sunspot Numbers, 1749-1983                             </td></tr>\n",
       "\t<tr><td>datasets</td><td>swiss                 </td><td>Swiss Fertility and Socioeconomic Indicators (1888) Data       </td></tr>\n",
       "\t<tr><td>datasets</td><td>treering              </td><td>Yearly Treering Data, -6000-1979                               </td></tr>\n",
       "\t<tr><td>datasets</td><td>trees                 </td><td>Diameter, Height and Volume for Black Cherry Trees             </td></tr>\n",
       "\t<tr><td>datasets</td><td>uspop                 </td><td>Populations Recorded by the US Census                          </td></tr>\n",
       "\t<tr><td>datasets</td><td>volcano               </td><td>Topographic Information on Auckland's Maunga Whau Volcano      </td></tr>\n",
       "\t<tr><td>datasets</td><td>warpbreaks            </td><td>The Number of Breaks in Yarn during Weaving                    </td></tr>\n",
       "\t<tr><td>datasets</td><td>women                 </td><td>Average Heights and Weights for American Women                 </td></tr>\n",
       "</tbody>\n",
       "</table>\n",
       "\n",
       "<p>Use ‘data(package = .packages(all.available = TRUE))’\n",
       "to list the data sets in all *available* packages.</p>"
      ],
      "text/plain": [
       "Data sets in package ‘datasets’:\n",
       "\n",
       "AirPassengers           Monthly Airline Passenger Numbers 1949-1960\n",
       "BJsales                 Sales Data with Leading Indicator\n",
       "BJsales.lead (BJsales)\n",
       "                        Sales Data with Leading Indicator\n",
       "BOD                     Biochemical Oxygen Demand\n",
       "CO2                     Carbon Dioxide Uptake in Grass Plants\n",
       "ChickWeight             Weight versus age of chicks on different diets\n",
       "DNase                   Elisa assay of DNase\n",
       "EuStockMarkets          Daily Closing Prices of Major European Stock\n",
       "                        Indices, 1991-1998\n",
       "Formaldehyde            Determination of Formaldehyde\n",
       "HairEyeColor            Hair and Eye Color of Statistics Students\n",
       "Harman23.cor            Harman Example 2.3\n",
       "Harman74.cor            Harman Example 7.4\n",
       "Indometh                Pharmacokinetics of Indomethacin\n",
       "InsectSprays            Effectiveness of Insect Sprays\n",
       "JohnsonJohnson          Quarterly Earnings per Johnson & Johnson Share\n",
       "LakeHuron               Level of Lake Huron 1875-1972\n",
       "LifeCycleSavings        Intercountry Life-Cycle Savings Data\n",
       "Loblolly                Growth of Loblolly pine trees\n",
       "Nile                    Flow of the River Nile\n",
       "Orange                  Growth of Orange Trees\n",
       "OrchardSprays           Potency of Orchard Sprays\n",
       "PlantGrowth             Results from an Experiment on Plant Growth\n",
       "Puromycin               Reaction Velocity of an Enzymatic Reaction\n",
       "Seatbelts               Road Casualties in Great Britain 1969-84\n",
       "Theoph                  Pharmacokinetics of Theophylline\n",
       "Titanic                 Survival of passengers on the Titanic\n",
       "ToothGrowth             The Effect of Vitamin C on Tooth Growth in\n",
       "                        Guinea Pigs\n",
       "UCBAdmissions           Student Admissions at UC Berkeley\n",
       "UKDriverDeaths          Road Casualties in Great Britain 1969-84\n",
       "UKgas                   UK Quarterly Gas Consumption\n",
       "USAccDeaths             Accidental Deaths in the US 1973-1978\n",
       "USArrests               Violent Crime Rates by US State\n",
       "USJudgeRatings          Lawyers' Ratings of State Judges in the US\n",
       "                        Superior Court\n",
       "USPersonalExpenditure   Personal Expenditure Data\n",
       "UScitiesD               Distances Between European Cities and Between\n",
       "                        US Cities\n",
       "VADeaths                Death Rates in Virginia (1940)\n",
       "WWWusage                Internet Usage per Minute\n",
       "WorldPhones             The World's Telephones\n",
       "ability.cov             Ability and Intelligence Tests\n",
       "airmiles                Passenger Miles on Commercial US Airlines,\n",
       "                        1937-1960\n",
       "airquality              New York Air Quality Measurements\n",
       "anscombe                Anscombe's Quartet of 'Identical' Simple Linear\n",
       "                        Regressions\n",
       "attenu                  The Joyner-Boore Attenuation Data\n",
       "attitude                The Chatterjee-Price Attitude Data\n",
       "austres                 Quarterly Time Series of the Number of\n",
       "                        Australian Residents\n",
       "beaver1 (beavers)       Body Temperature Series of Two Beavers\n",
       "beaver2 (beavers)       Body Temperature Series of Two Beavers\n",
       "cars                    Speed and Stopping Distances of Cars\n",
       "chickwts                Chicken Weights by Feed Type\n",
       "co2                     Mauna Loa Atmospheric CO2 Concentration\n",
       "crimtab                 Student's 3000 Criminals Data\n",
       "discoveries             Yearly Numbers of Important Discoveries\n",
       "esoph                   Smoking, Alcohol and (O)esophageal Cancer\n",
       "euro                    Conversion Rates of Euro Currencies\n",
       "euro.cross (euro)       Conversion Rates of Euro Currencies\n",
       "eurodist                Distances Between European Cities and Between\n",
       "                        US Cities\n",
       "faithful                Old Faithful Geyser Data\n",
       "fdeaths (UKLungDeaths)\n",
       "                        Monthly Deaths from Lung Diseases in the UK\n",
       "freeny                  Freeny's Revenue Data\n",
       "freeny.x (freeny)       Freeny's Revenue Data\n",
       "freeny.y (freeny)       Freeny's Revenue Data\n",
       "infert                  Infertility after Spontaneous and Induced\n",
       "                        Abortion\n",
       "iris                    Edgar Anderson's Iris Data\n",
       "iris3                   Edgar Anderson's Iris Data\n",
       "islands                 Areas of the World's Major Landmasses\n",
       "ldeaths (UKLungDeaths)\n",
       "                        Monthly Deaths from Lung Diseases in the UK\n",
       "lh                      Luteinizing Hormone in Blood Samples\n",
       "longley                 Longley's Economic Regression Data\n",
       "lynx                    Annual Canadian Lynx trappings 1821-1934\n",
       "mdeaths (UKLungDeaths)\n",
       "                        Monthly Deaths from Lung Diseases in the UK\n",
       "morley                  Michelson Speed of Light Data\n",
       "mtcars                  Motor Trend Car Road Tests\n",
       "nhtemp                  Average Yearly Temperatures in New Haven\n",
       "nottem                  Average Monthly Temperatures at Nottingham,\n",
       "                        1920-1939\n",
       "npk                     Classical N, P, K Factorial Experiment\n",
       "occupationalStatus      Occupational Status of Fathers and their Sons\n",
       "precip                  Annual Precipitation in US Cities\n",
       "presidents              Quarterly Approval Ratings of US Presidents\n",
       "pressure                Vapor Pressure of Mercury as a Function of\n",
       "                        Temperature\n",
       "quakes                  Locations of Earthquakes off Fiji\n",
       "randu                   Random Numbers from Congruential Generator\n",
       "                        RANDU\n",
       "rivers                  Lengths of Major North American Rivers\n",
       "rock                    Measurements on Petroleum Rock Samples\n",
       "sleep                   Student's Sleep Data\n",
       "stack.loss (stackloss)\n",
       "                        Brownlee's Stack Loss Plant Data\n",
       "stack.x (stackloss)     Brownlee's Stack Loss Plant Data\n",
       "stackloss               Brownlee's Stack Loss Plant Data\n",
       "state.abb (state)       US State Facts and Figures\n",
       "state.area (state)      US State Facts and Figures\n",
       "state.center (state)    US State Facts and Figures\n",
       "state.division (state)\n",
       "                        US State Facts and Figures\n",
       "state.name (state)      US State Facts and Figures\n",
       "state.region (state)    US State Facts and Figures\n",
       "state.x77 (state)       US State Facts and Figures\n",
       "sunspot.month           Monthly Sunspot Data, from 1749 to \"Present\"\n",
       "sunspot.year            Yearly Sunspot Data, 1700-1988\n",
       "sunspots                Monthly Sunspot Numbers, 1749-1983\n",
       "swiss                   Swiss Fertility and Socioeconomic Indicators\n",
       "                        (1888) Data\n",
       "treering                Yearly Treering Data, -6000-1979\n",
       "trees                   Diameter, Height and Volume for Black Cherry\n",
       "                        Trees\n",
       "uspop                   Populations Recorded by the US Census\n",
       "volcano                 Topographic Information on Auckland's Maunga\n",
       "                        Whau Volcano\n",
       "warpbreaks              The Number of Breaks in Yarn during Weaving\n",
       "women                   Average Heights and Weights for American Women\n",
       "\n",
       "Use ‘data(package = .packages(all.available = TRUE))’\n",
       "to list the data sets in all *available* packages."
      ]
     },
     "metadata": {},
     "output_type": "display_data"
    }
   ],
   "source": [
    "data()"
   ]
  },
  {
   "cell_type": "markdown",
   "id": "3671b4fd-5747-4b53-9dfa-eb42c3c512e5",
   "metadata": {},
   "source": [
    "## Head and Tail <a name=\"head_tail\"/>\n",
    "[Jump to the Main Heading](#dataframe_basics)"
   ]
  },
  {
   "cell_type": "code",
   "execution_count": 7,
   "id": "1a05676c-b98a-4492-8c8a-9bca9e987a84",
   "metadata": {},
   "outputs": [
    {
     "data": {
      "text/html": [
       "<table class=\"dataframe\">\n",
       "<caption>A matrix: 10 × 8 of type dbl</caption>\n",
       "<thead>\n",
       "\t<tr><th></th><th scope=col>Population</th><th scope=col>Income</th><th scope=col>Illiteracy</th><th scope=col>Life Exp</th><th scope=col>Murder</th><th scope=col>HS Grad</th><th scope=col>Frost</th><th scope=col>Area</th></tr>\n",
       "</thead>\n",
       "<tbody>\n",
       "\t<tr><th scope=row>Alabama</th><td> 3615</td><td>3624</td><td>2.1</td><td>69.05</td><td>15.1</td><td>41.3</td><td> 20</td><td> 50708</td></tr>\n",
       "\t<tr><th scope=row>Alaska</th><td>  365</td><td>6315</td><td>1.5</td><td>69.31</td><td>11.3</td><td>66.7</td><td>152</td><td>566432</td></tr>\n",
       "\t<tr><th scope=row>Arizona</th><td> 2212</td><td>4530</td><td>1.8</td><td>70.55</td><td> 7.8</td><td>58.1</td><td> 15</td><td>113417</td></tr>\n",
       "\t<tr><th scope=row>Arkansas</th><td> 2110</td><td>3378</td><td>1.9</td><td>70.66</td><td>10.1</td><td>39.9</td><td> 65</td><td> 51945</td></tr>\n",
       "\t<tr><th scope=row>California</th><td>21198</td><td>5114</td><td>1.1</td><td>71.71</td><td>10.3</td><td>62.6</td><td> 20</td><td>156361</td></tr>\n",
       "\t<tr><th scope=row>Colorado</th><td> 2541</td><td>4884</td><td>0.7</td><td>72.06</td><td> 6.8</td><td>63.9</td><td>166</td><td>103766</td></tr>\n",
       "\t<tr><th scope=row>Connecticut</th><td> 3100</td><td>5348</td><td>1.1</td><td>72.48</td><td> 3.1</td><td>56.0</td><td>139</td><td>  4862</td></tr>\n",
       "\t<tr><th scope=row>Delaware</th><td>  579</td><td>4809</td><td>0.9</td><td>70.06</td><td> 6.2</td><td>54.6</td><td>103</td><td>  1982</td></tr>\n",
       "\t<tr><th scope=row>Florida</th><td> 8277</td><td>4815</td><td>1.3</td><td>70.66</td><td>10.7</td><td>52.6</td><td> 11</td><td> 54090</td></tr>\n",
       "\t<tr><th scope=row>Georgia</th><td> 4931</td><td>4091</td><td>2.0</td><td>68.54</td><td>13.9</td><td>40.6</td><td> 60</td><td> 58073</td></tr>\n",
       "</tbody>\n",
       "</table>\n"
      ],
      "text/latex": [
       "A matrix: 10 × 8 of type dbl\n",
       "\\begin{tabular}{r|llllllll}\n",
       "  & Population & Income & Illiteracy & Life Exp & Murder & HS Grad & Frost & Area\\\\\n",
       "\\hline\n",
       "\tAlabama &  3615 & 3624 & 2.1 & 69.05 & 15.1 & 41.3 &  20 &  50708\\\\\n",
       "\tAlaska &   365 & 6315 & 1.5 & 69.31 & 11.3 & 66.7 & 152 & 566432\\\\\n",
       "\tArizona &  2212 & 4530 & 1.8 & 70.55 &  7.8 & 58.1 &  15 & 113417\\\\\n",
       "\tArkansas &  2110 & 3378 & 1.9 & 70.66 & 10.1 & 39.9 &  65 &  51945\\\\\n",
       "\tCalifornia & 21198 & 5114 & 1.1 & 71.71 & 10.3 & 62.6 &  20 & 156361\\\\\n",
       "\tColorado &  2541 & 4884 & 0.7 & 72.06 &  6.8 & 63.9 & 166 & 103766\\\\\n",
       "\tConnecticut &  3100 & 5348 & 1.1 & 72.48 &  3.1 & 56.0 & 139 &   4862\\\\\n",
       "\tDelaware &   579 & 4809 & 0.9 & 70.06 &  6.2 & 54.6 & 103 &   1982\\\\\n",
       "\tFlorida &  8277 & 4815 & 1.3 & 70.66 & 10.7 & 52.6 &  11 &  54090\\\\\n",
       "\tGeorgia &  4931 & 4091 & 2.0 & 68.54 & 13.9 & 40.6 &  60 &  58073\\\\\n",
       "\\end{tabular}\n"
      ],
      "text/markdown": [
       "\n",
       "A matrix: 10 × 8 of type dbl\n",
       "\n",
       "| <!--/--> | Population | Income | Illiteracy | Life Exp | Murder | HS Grad | Frost | Area |\n",
       "|---|---|---|---|---|---|---|---|---|\n",
       "| Alabama |  3615 | 3624 | 2.1 | 69.05 | 15.1 | 41.3 |  20 |  50708 |\n",
       "| Alaska |   365 | 6315 | 1.5 | 69.31 | 11.3 | 66.7 | 152 | 566432 |\n",
       "| Arizona |  2212 | 4530 | 1.8 | 70.55 |  7.8 | 58.1 |  15 | 113417 |\n",
       "| Arkansas |  2110 | 3378 | 1.9 | 70.66 | 10.1 | 39.9 |  65 |  51945 |\n",
       "| California | 21198 | 5114 | 1.1 | 71.71 | 10.3 | 62.6 |  20 | 156361 |\n",
       "| Colorado |  2541 | 4884 | 0.7 | 72.06 |  6.8 | 63.9 | 166 | 103766 |\n",
       "| Connecticut |  3100 | 5348 | 1.1 | 72.48 |  3.1 | 56.0 | 139 |   4862 |\n",
       "| Delaware |   579 | 4809 | 0.9 | 70.06 |  6.2 | 54.6 | 103 |   1982 |\n",
       "| Florida |  8277 | 4815 | 1.3 | 70.66 | 10.7 | 52.6 |  11 |  54090 |\n",
       "| Georgia |  4931 | 4091 | 2.0 | 68.54 | 13.9 | 40.6 |  60 |  58073 |\n",
       "\n"
      ],
      "text/plain": [
       "            Population Income Illiteracy Life Exp Murder HS Grad Frost Area  \n",
       "Alabama      3615      3624   2.1        69.05    15.1   41.3     20    50708\n",
       "Alaska        365      6315   1.5        69.31    11.3   66.7    152   566432\n",
       "Arizona      2212      4530   1.8        70.55     7.8   58.1     15   113417\n",
       "Arkansas     2110      3378   1.9        70.66    10.1   39.9     65    51945\n",
       "California  21198      5114   1.1        71.71    10.3   62.6     20   156361\n",
       "Colorado     2541      4884   0.7        72.06     6.8   63.9    166   103766\n",
       "Connecticut  3100      5348   1.1        72.48     3.1   56.0    139     4862\n",
       "Delaware      579      4809   0.9        70.06     6.2   54.6    103     1982\n",
       "Florida      8277      4815   1.3        70.66    10.7   52.6     11    54090\n",
       "Georgia      4931      4091   2.0        68.54    13.9   40.6     60    58073"
      ]
     },
     "metadata": {},
     "output_type": "display_data"
    }
   ],
   "source": [
    "head(state.x77, 10)"
   ]
  },
  {
   "cell_type": "code",
   "execution_count": 10,
   "id": "d28bea4a-f50a-484c-82e5-9099bcdafaea",
   "metadata": {},
   "outputs": [
    {
     "data": {
      "text/html": [
       "<table class=\"dataframe\">\n",
       "<caption>A matrix: 10 × 8 of type dbl</caption>\n",
       "<thead>\n",
       "\t<tr><th></th><th scope=col>Population</th><th scope=col>Income</th><th scope=col>Illiteracy</th><th scope=col>Life Exp</th><th scope=col>Murder</th><th scope=col>HS Grad</th><th scope=col>Frost</th><th scope=col>Area</th></tr>\n",
       "</thead>\n",
       "<tbody>\n",
       "\t<tr><th scope=row>South Dakota</th><td>  681</td><td>4167</td><td>0.5</td><td>72.08</td><td> 1.7</td><td>53.3</td><td>172</td><td> 75955</td></tr>\n",
       "\t<tr><th scope=row>Tennessee</th><td> 4173</td><td>3821</td><td>1.7</td><td>70.11</td><td>11.0</td><td>41.8</td><td> 70</td><td> 41328</td></tr>\n",
       "\t<tr><th scope=row>Texas</th><td>12237</td><td>4188</td><td>2.2</td><td>70.90</td><td>12.2</td><td>47.4</td><td> 35</td><td>262134</td></tr>\n",
       "\t<tr><th scope=row>Utah</th><td> 1203</td><td>4022</td><td>0.6</td><td>72.90</td><td> 4.5</td><td>67.3</td><td>137</td><td> 82096</td></tr>\n",
       "\t<tr><th scope=row>Vermont</th><td>  472</td><td>3907</td><td>0.6</td><td>71.64</td><td> 5.5</td><td>57.1</td><td>168</td><td>  9267</td></tr>\n",
       "\t<tr><th scope=row>Virginia</th><td> 4981</td><td>4701</td><td>1.4</td><td>70.08</td><td> 9.5</td><td>47.8</td><td> 85</td><td> 39780</td></tr>\n",
       "\t<tr><th scope=row>Washington</th><td> 3559</td><td>4864</td><td>0.6</td><td>71.72</td><td> 4.3</td><td>63.5</td><td> 32</td><td> 66570</td></tr>\n",
       "\t<tr><th scope=row>West Virginia</th><td> 1799</td><td>3617</td><td>1.4</td><td>69.48</td><td> 6.7</td><td>41.6</td><td>100</td><td> 24070</td></tr>\n",
       "\t<tr><th scope=row>Wisconsin</th><td> 4589</td><td>4468</td><td>0.7</td><td>72.48</td><td> 3.0</td><td>54.5</td><td>149</td><td> 54464</td></tr>\n",
       "\t<tr><th scope=row>Wyoming</th><td>  376</td><td>4566</td><td>0.6</td><td>70.29</td><td> 6.9</td><td>62.9</td><td>173</td><td> 97203</td></tr>\n",
       "</tbody>\n",
       "</table>\n"
      ],
      "text/latex": [
       "A matrix: 10 × 8 of type dbl\n",
       "\\begin{tabular}{r|llllllll}\n",
       "  & Population & Income & Illiteracy & Life Exp & Murder & HS Grad & Frost & Area\\\\\n",
       "\\hline\n",
       "\tSouth Dakota &   681 & 4167 & 0.5 & 72.08 &  1.7 & 53.3 & 172 &  75955\\\\\n",
       "\tTennessee &  4173 & 3821 & 1.7 & 70.11 & 11.0 & 41.8 &  70 &  41328\\\\\n",
       "\tTexas & 12237 & 4188 & 2.2 & 70.90 & 12.2 & 47.4 &  35 & 262134\\\\\n",
       "\tUtah &  1203 & 4022 & 0.6 & 72.90 &  4.5 & 67.3 & 137 &  82096\\\\\n",
       "\tVermont &   472 & 3907 & 0.6 & 71.64 &  5.5 & 57.1 & 168 &   9267\\\\\n",
       "\tVirginia &  4981 & 4701 & 1.4 & 70.08 &  9.5 & 47.8 &  85 &  39780\\\\\n",
       "\tWashington &  3559 & 4864 & 0.6 & 71.72 &  4.3 & 63.5 &  32 &  66570\\\\\n",
       "\tWest Virginia &  1799 & 3617 & 1.4 & 69.48 &  6.7 & 41.6 & 100 &  24070\\\\\n",
       "\tWisconsin &  4589 & 4468 & 0.7 & 72.48 &  3.0 & 54.5 & 149 &  54464\\\\\n",
       "\tWyoming &   376 & 4566 & 0.6 & 70.29 &  6.9 & 62.9 & 173 &  97203\\\\\n",
       "\\end{tabular}\n"
      ],
      "text/markdown": [
       "\n",
       "A matrix: 10 × 8 of type dbl\n",
       "\n",
       "| <!--/--> | Population | Income | Illiteracy | Life Exp | Murder | HS Grad | Frost | Area |\n",
       "|---|---|---|---|---|---|---|---|---|\n",
       "| South Dakota |   681 | 4167 | 0.5 | 72.08 |  1.7 | 53.3 | 172 |  75955 |\n",
       "| Tennessee |  4173 | 3821 | 1.7 | 70.11 | 11.0 | 41.8 |  70 |  41328 |\n",
       "| Texas | 12237 | 4188 | 2.2 | 70.90 | 12.2 | 47.4 |  35 | 262134 |\n",
       "| Utah |  1203 | 4022 | 0.6 | 72.90 |  4.5 | 67.3 | 137 |  82096 |\n",
       "| Vermont |   472 | 3907 | 0.6 | 71.64 |  5.5 | 57.1 | 168 |   9267 |\n",
       "| Virginia |  4981 | 4701 | 1.4 | 70.08 |  9.5 | 47.8 |  85 |  39780 |\n",
       "| Washington |  3559 | 4864 | 0.6 | 71.72 |  4.3 | 63.5 |  32 |  66570 |\n",
       "| West Virginia |  1799 | 3617 | 1.4 | 69.48 |  6.7 | 41.6 | 100 |  24070 |\n",
       "| Wisconsin |  4589 | 4468 | 0.7 | 72.48 |  3.0 | 54.5 | 149 |  54464 |\n",
       "| Wyoming |   376 | 4566 | 0.6 | 70.29 |  6.9 | 62.9 | 173 |  97203 |\n",
       "\n"
      ],
      "text/plain": [
       "              Population Income Illiteracy Life Exp Murder HS Grad Frost Area  \n",
       "South Dakota    681      4167   0.5        72.08     1.7   53.3    172    75955\n",
       "Tennessee      4173      3821   1.7        70.11    11.0   41.8     70    41328\n",
       "Texas         12237      4188   2.2        70.90    12.2   47.4     35   262134\n",
       "Utah           1203      4022   0.6        72.90     4.5   67.3    137    82096\n",
       "Vermont         472      3907   0.6        71.64     5.5   57.1    168     9267\n",
       "Virginia       4981      4701   1.4        70.08     9.5   47.8     85    39780\n",
       "Washington     3559      4864   0.6        71.72     4.3   63.5     32    66570\n",
       "West Virginia  1799      3617   1.4        69.48     6.7   41.6    100    24070\n",
       "Wisconsin      4589      4468   0.7        72.48     3.0   54.5    149    54464\n",
       "Wyoming         376      4566   0.6        70.29     6.9   62.9    173    97203"
      ]
     },
     "metadata": {},
     "output_type": "display_data"
    }
   ],
   "source": [
    "tail(state.x77, 10)"
   ]
  },
  {
   "cell_type": "markdown",
   "id": "d523c7ba-adc0-4997-b6d8-9aa63ada2e48",
   "metadata": {},
   "source": [
    "## Structure and Summary <a name=\"structure_summary\"/>\n",
    "[Jump to the Main Heading](#dataframe_basics)"
   ]
  },
  {
   "cell_type": "code",
   "execution_count": 11,
   "id": "a0e42576-e75a-41f6-9f0a-3ec04a2c5879",
   "metadata": {},
   "outputs": [
    {
     "name": "stdout",
     "output_type": "stream",
     "text": [
      " num [1:50, 1:8] 3615 365 2212 2110 21198 ...\n",
      " - attr(*, \"dimnames\")=List of 2\n",
      "  ..$ : chr [1:50] \"Alabama\" \"Alaska\" \"Arizona\" \"Arkansas\" ...\n",
      "  ..$ : chr [1:8] \"Population\" \"Income\" \"Illiteracy\" \"Life Exp\" ...\n"
     ]
    }
   ],
   "source": [
    "str(state.x77)"
   ]
  },
  {
   "cell_type": "code",
   "execution_count": 9,
   "id": "1550bcca-d26f-4c0c-880f-4803fbe013cc",
   "metadata": {},
   "outputs": [
    {
     "name": "stdout",
     "output_type": "stream",
     "text": [
      "   Population        Income       Illiteracy       Life Exp    \n",
      " Min.   :  365   Min.   :3098   Min.   :0.500   Min.   :67.96  \n",
      " 1st Qu.: 1080   1st Qu.:3993   1st Qu.:0.625   1st Qu.:70.12  \n",
      " Median : 2838   Median :4519   Median :0.950   Median :70.67  \n",
      " Mean   : 4246   Mean   :4436   Mean   :1.170   Mean   :70.88  \n",
      " 3rd Qu.: 4968   3rd Qu.:4814   3rd Qu.:1.575   3rd Qu.:71.89  \n",
      " Max.   :21198   Max.   :6315   Max.   :2.800   Max.   :73.60  \n",
      "     Murder          HS Grad          Frost             Area       \n",
      " Min.   : 1.400   Min.   :37.80   Min.   :  0.00   Min.   :  1049  \n",
      " 1st Qu.: 4.350   1st Qu.:48.05   1st Qu.: 66.25   1st Qu.: 36985  \n",
      " Median : 6.850   Median :53.25   Median :114.50   Median : 54277  \n",
      " Mean   : 7.378   Mean   :53.11   Mean   :104.46   Mean   : 70736  \n",
      " 3rd Qu.:10.675   3rd Qu.:59.15   3rd Qu.:139.75   3rd Qu.: 81162  \n",
      " Max.   :15.100   Max.   :67.30   Max.   :188.00   Max.   :566432  \n"
     ]
    }
   ],
   "source": [
    "print(summary(state.x77))"
   ]
  },
  {
   "cell_type": "markdown",
   "id": "2b72f43e-b40f-463f-9cf6-254d7d4b7cc2",
   "metadata": {},
   "source": [
    "## Creating a DataFrame <a name=\"dataframe_creation\"/>\n",
    "\n",
    "[Jump to the Main Heading](#dataframe_basics)"
   ]
  },
  {
   "cell_type": "code",
   "execution_count": 14,
   "id": "5a5d92ea-437a-448b-b1fd-7f7fce67b97a",
   "metadata": {},
   "outputs": [
    {
     "data": {
      "text/html": [
       "<table class=\"dataframe\">\n",
       "<caption>A data.frame: 7 × 3</caption>\n",
       "<thead>\n",
       "\t<tr><th scope=col>days</th><th scope=col>temps</th><th scope=col>rain</th></tr>\n",
       "\t<tr><th scope=col>&lt;chr&gt;</th><th scope=col>&lt;dbl&gt;</th><th scope=col>&lt;lgl&gt;</th></tr>\n",
       "</thead>\n",
       "<tbody>\n",
       "\t<tr><td>Mon</td><td>42.65094</td><td>FALSE</td></tr>\n",
       "\t<tr><td>Tue</td><td>43.09041</td><td>FALSE</td></tr>\n",
       "\t<tr><td>Wed</td><td>30.68260</td><td>FALSE</td></tr>\n",
       "\t<tr><td>Thr</td><td>43.05910</td><td> TRUE</td></tr>\n",
       "\t<tr><td>Fri</td><td>46.36578</td><td> TRUE</td></tr>\n",
       "\t<tr><td>Sat</td><td>28.84725</td><td>FALSE</td></tr>\n",
       "\t<tr><td>Sun</td><td>47.01940</td><td> TRUE</td></tr>\n",
       "</tbody>\n",
       "</table>\n"
      ],
      "text/latex": [
       "A data.frame: 7 × 3\n",
       "\\begin{tabular}{lll}\n",
       " days & temps & rain\\\\\n",
       " <chr> & <dbl> & <lgl>\\\\\n",
       "\\hline\n",
       "\t Mon & 42.65094 & FALSE\\\\\n",
       "\t Tue & 43.09041 & FALSE\\\\\n",
       "\t Wed & 30.68260 & FALSE\\\\\n",
       "\t Thr & 43.05910 &  TRUE\\\\\n",
       "\t Fri & 46.36578 &  TRUE\\\\\n",
       "\t Sat & 28.84725 & FALSE\\\\\n",
       "\t Sun & 47.01940 &  TRUE\\\\\n",
       "\\end{tabular}\n"
      ],
      "text/markdown": [
       "\n",
       "A data.frame: 7 × 3\n",
       "\n",
       "| days &lt;chr&gt; | temps &lt;dbl&gt; | rain &lt;lgl&gt; |\n",
       "|---|---|---|\n",
       "| Mon | 42.65094 | FALSE |\n",
       "| Tue | 43.09041 | FALSE |\n",
       "| Wed | 30.68260 | FALSE |\n",
       "| Thr | 43.05910 |  TRUE |\n",
       "| Fri | 46.36578 |  TRUE |\n",
       "| Sat | 28.84725 | FALSE |\n",
       "| Sun | 47.01940 |  TRUE |\n",
       "\n"
      ],
      "text/plain": [
       "  days temps    rain \n",
       "1 Mon  42.65094 FALSE\n",
       "2 Tue  43.09041 FALSE\n",
       "3 Wed  30.68260 FALSE\n",
       "4 Thr  43.05910  TRUE\n",
       "5 Fri  46.36578  TRUE\n",
       "6 Sat  28.84725 FALSE\n",
       "7 Sun  47.01940  TRUE"
      ]
     },
     "metadata": {},
     "output_type": "display_data"
    }
   ],
   "source": [
    "days = c(\"Mon\", \"Tue\", \"Wed\", \"Thr\", \"Fri\", \"Sat\", \"Sun\")\n",
    "temps = c(runif(7, min=22, max=50))\n",
    "rain = sample(c(TRUE, FALSE), 7, replace=TRUE)\n",
    "\n",
    "# Create a sample dataframe\n",
    "sample.df = data.frame(days, temps, rain)\n",
    "sample.df"
   ]
  },
  {
   "cell_type": "code",
   "execution_count": 15,
   "id": "17490586-77cc-49b5-aa9c-20a25b799a92",
   "metadata": {},
   "outputs": [
    {
     "name": "stdout",
     "output_type": "stream",
     "text": [
      "'data.frame':\t7 obs. of  3 variables:\n",
      " $ days : chr  \"Mon\" \"Tue\" \"Wed\" \"Thr\" ...\n",
      " $ temps: num  42.7 43.1 30.7 43.1 46.4 ...\n",
      " $ rain : logi  FALSE FALSE FALSE TRUE TRUE FALSE ...\n"
     ]
    }
   ],
   "source": [
    "str(sample.df)"
   ]
  },
  {
   "cell_type": "code",
   "execution_count": 16,
   "id": "701f23e0-5d2b-46d6-b693-3c16f63561f7",
   "metadata": {},
   "outputs": [
    {
     "data": {
      "text/plain": [
       "     days               temps          rain        \n",
       " Length:7           Min.   :28.85   Mode :logical  \n",
       " Class :character   1st Qu.:36.67   FALSE:4        \n",
       " Mode  :character   Median :43.06   TRUE :3        \n",
       "                    Mean   :40.25                  \n",
       "                    3rd Qu.:44.73                  \n",
       "                    Max.   :47.02                  "
      ]
     },
     "metadata": {},
     "output_type": "display_data"
    }
   ],
   "source": [
    "summary(sample.df)"
   ]
  },
  {
   "cell_type": "markdown",
   "id": "0614e93a-a320-4338-9747-271be774687a",
   "metadata": {},
   "source": [
    "# Indexing and Selection <a name=\"indexing_selection\"/>\n",
    "\n",
    "[Jump to the Table of Contents](#table)"
   ]
  },
  {
   "cell_type": "markdown",
   "id": "a53c168d-949a-49cc-aab3-be47ea1450fa",
   "metadata": {},
   "source": [
    "## Indexing <a name=\"indexing\"/>\n",
    "\n",
    "[Jump to the Main Header](#indexing_selection)"
   ]
  },
  {
   "cell_type": "code",
   "execution_count": 17,
   "id": "3cd3aadf-cc5a-4fed-a21a-296dcaee04d9",
   "metadata": {},
   "outputs": [
    {
     "data": {
      "text/html": [
       "<table class=\"dataframe\">\n",
       "<caption>A data.frame: 1 × 3</caption>\n",
       "<thead>\n",
       "\t<tr><th></th><th scope=col>days</th><th scope=col>temps</th><th scope=col>rain</th></tr>\n",
       "\t<tr><th></th><th scope=col>&lt;chr&gt;</th><th scope=col>&lt;dbl&gt;</th><th scope=col>&lt;lgl&gt;</th></tr>\n",
       "</thead>\n",
       "<tbody>\n",
       "\t<tr><th scope=row>1</th><td>Mon</td><td>42.65094</td><td>FALSE</td></tr>\n",
       "</tbody>\n",
       "</table>\n"
      ],
      "text/latex": [
       "A data.frame: 1 × 3\n",
       "\\begin{tabular}{r|lll}\n",
       "  & days & temps & rain\\\\\n",
       "  & <chr> & <dbl> & <lgl>\\\\\n",
       "\\hline\n",
       "\t1 & Mon & 42.65094 & FALSE\\\\\n",
       "\\end{tabular}\n"
      ],
      "text/markdown": [
       "\n",
       "A data.frame: 1 × 3\n",
       "\n",
       "| <!--/--> | days &lt;chr&gt; | temps &lt;dbl&gt; | rain &lt;lgl&gt; |\n",
       "|---|---|---|---|\n",
       "| 1 | Mon | 42.65094 | FALSE |\n",
       "\n"
      ],
      "text/plain": [
       "  days temps    rain \n",
       "1 Mon  42.65094 FALSE"
      ]
     },
     "metadata": {},
     "output_type": "display_data"
    }
   ],
   "source": [
    "sample.df[1, ]"
   ]
  },
  {
   "cell_type": "code",
   "execution_count": 19,
   "id": "f72ea44a-6b1f-4077-83a2-b826384405fe",
   "metadata": {},
   "outputs": [
    {
     "name": "stdout",
     "output_type": "stream",
     "text": [
      "[1] \"Mon\" \"Tue\" \"Wed\" \"Thr\" \"Fri\" \"Sat\" \"Sun\"\n"
     ]
    }
   ],
   "source": [
    "print(sample.df[, 1])"
   ]
  },
  {
   "cell_type": "code",
   "execution_count": 20,
   "id": "1667e849-75d1-4fdb-a7b3-a03744622922",
   "metadata": {},
   "outputs": [
    {
     "name": "stdout",
     "output_type": "stream",
     "text": [
      "[1] FALSE FALSE FALSE  TRUE  TRUE FALSE  TRUE\n"
     ]
    }
   ],
   "source": [
    "print(sample.df[, 'rain'])"
   ]
  },
  {
   "cell_type": "markdown",
   "id": "0b7921d0-f863-4dd1-a182-2785f2613693",
   "metadata": {},
   "source": [
    "## Selection <a name=\"selection\"/>\n",
    "[Jump to the Main Header](#indexing_selection)"
   ]
  },
  {
   "cell_type": "code",
   "execution_count": 23,
   "id": "7ccc8920-63d1-4d6d-8cee-cbf6a0d313b5",
   "metadata": {},
   "outputs": [
    {
     "data": {
      "text/html": [
       "<table class=\"dataframe\">\n",
       "<caption>A data.frame: 3 × 2</caption>\n",
       "<thead>\n",
       "\t<tr><th></th><th scope=col>days</th><th scope=col>temps</th></tr>\n",
       "\t<tr><th></th><th scope=col>&lt;chr&gt;</th><th scope=col>&lt;dbl&gt;</th></tr>\n",
       "</thead>\n",
       "<tbody>\n",
       "\t<tr><th scope=row>1</th><td>Mon</td><td>42.65094</td></tr>\n",
       "\t<tr><th scope=row>2</th><td>Tue</td><td>43.09041</td></tr>\n",
       "\t<tr><th scope=row>3</th><td>Wed</td><td>30.68260</td></tr>\n",
       "</tbody>\n",
       "</table>\n"
      ],
      "text/latex": [
       "A data.frame: 3 × 2\n",
       "\\begin{tabular}{r|ll}\n",
       "  & days & temps\\\\\n",
       "  & <chr> & <dbl>\\\\\n",
       "\\hline\n",
       "\t1 & Mon & 42.65094\\\\\n",
       "\t2 & Tue & 43.09041\\\\\n",
       "\t3 & Wed & 30.68260\\\\\n",
       "\\end{tabular}\n"
      ],
      "text/markdown": [
       "\n",
       "A data.frame: 3 × 2\n",
       "\n",
       "| <!--/--> | days &lt;chr&gt; | temps &lt;dbl&gt; |\n",
       "|---|---|---|\n",
       "| 1 | Mon | 42.65094 |\n",
       "| 2 | Tue | 43.09041 |\n",
       "| 3 | Wed | 30.68260 |\n",
       "\n"
      ],
      "text/plain": [
       "  days temps   \n",
       "1 Mon  42.65094\n",
       "2 Tue  43.09041\n",
       "3 Wed  30.68260"
      ]
     },
     "metadata": {},
     "output_type": "display_data"
    }
   ],
   "source": [
    "sample.df[1:3, c(\"days\", \"temps\")]"
   ]
  },
  {
   "cell_type": "code",
   "execution_count": 26,
   "id": "7daaa4be-bf6a-4a4f-914e-537a9d86cf75",
   "metadata": {},
   "outputs": [
    {
     "name": "stdout",
     "output_type": "stream",
     "text": [
      "[1] \"Mon\" \"Tue\" \"Wed\" \"Thr\" \"Fri\" \"Sat\" \"Sun\"\n"
     ]
    }
   ],
   "source": [
    "print(sample.df$days)"
   ]
  },
  {
   "cell_type": "code",
   "execution_count": 27,
   "id": "5c459906-bf8a-46ed-ac0b-162586185f9b",
   "metadata": {},
   "outputs": [
    {
     "name": "stdout",
     "output_type": "stream",
     "text": [
      "[1] FALSE FALSE FALSE  TRUE  TRUE FALSE  TRUE\n"
     ]
    }
   ],
   "source": [
    "print(sample.df$rain)"
   ]
  },
  {
   "cell_type": "code",
   "execution_count": 29,
   "id": "3e5137d1-dbd9-4f90-b390-e048008f5091",
   "metadata": {},
   "outputs": [
    {
     "data": {
      "text/html": [
       "<table class=\"dataframe\">\n",
       "<caption>A data.frame: 3 × 3</caption>\n",
       "<thead>\n",
       "\t<tr><th></th><th scope=col>days</th><th scope=col>temps</th><th scope=col>rain</th></tr>\n",
       "\t<tr><th></th><th scope=col>&lt;chr&gt;</th><th scope=col>&lt;dbl&gt;</th><th scope=col>&lt;lgl&gt;</th></tr>\n",
       "</thead>\n",
       "<tbody>\n",
       "\t<tr><th scope=row>4</th><td>Thr</td><td>43.05910</td><td>TRUE</td></tr>\n",
       "\t<tr><th scope=row>5</th><td>Fri</td><td>46.36578</td><td>TRUE</td></tr>\n",
       "\t<tr><th scope=row>7</th><td>Sun</td><td>47.01940</td><td>TRUE</td></tr>\n",
       "</tbody>\n",
       "</table>\n"
      ],
      "text/latex": [
       "A data.frame: 3 × 3\n",
       "\\begin{tabular}{r|lll}\n",
       "  & days & temps & rain\\\\\n",
       "  & <chr> & <dbl> & <lgl>\\\\\n",
       "\\hline\n",
       "\t4 & Thr & 43.05910 & TRUE\\\\\n",
       "\t5 & Fri & 46.36578 & TRUE\\\\\n",
       "\t7 & Sun & 47.01940 & TRUE\\\\\n",
       "\\end{tabular}\n"
      ],
      "text/markdown": [
       "\n",
       "A data.frame: 3 × 3\n",
       "\n",
       "| <!--/--> | days &lt;chr&gt; | temps &lt;dbl&gt; | rain &lt;lgl&gt; |\n",
       "|---|---|---|---|\n",
       "| 4 | Thr | 43.05910 | TRUE |\n",
       "| 5 | Fri | 46.36578 | TRUE |\n",
       "| 7 | Sun | 47.01940 | TRUE |\n",
       "\n"
      ],
      "text/plain": [
       "  days temps    rain\n",
       "4 Thr  43.05910 TRUE\n",
       "5 Fri  46.36578 TRUE\n",
       "7 Sun  47.01940 TRUE"
      ]
     },
     "metadata": {},
     "output_type": "display_data"
    }
   ],
   "source": [
    "subset(sample.df, subset=rain == TRUE)"
   ]
  },
  {
   "cell_type": "code",
   "execution_count": 31,
   "id": "b2e2b77a-d779-4980-a72c-a48df4275b25",
   "metadata": {},
   "outputs": [
    {
     "data": {
      "text/html": [
       "<table class=\"dataframe\">\n",
       "<caption>A data.frame: 2 × 3</caption>\n",
       "<thead>\n",
       "\t<tr><th></th><th scope=col>days</th><th scope=col>temps</th><th scope=col>rain</th></tr>\n",
       "\t<tr><th></th><th scope=col>&lt;chr&gt;</th><th scope=col>&lt;dbl&gt;</th><th scope=col>&lt;lgl&gt;</th></tr>\n",
       "</thead>\n",
       "<tbody>\n",
       "\t<tr><th scope=row>5</th><td>Fri</td><td>46.36578</td><td>TRUE</td></tr>\n",
       "\t<tr><th scope=row>7</th><td>Sun</td><td>47.01940</td><td>TRUE</td></tr>\n",
       "</tbody>\n",
       "</table>\n"
      ],
      "text/latex": [
       "A data.frame: 2 × 3\n",
       "\\begin{tabular}{r|lll}\n",
       "  & days & temps & rain\\\\\n",
       "  & <chr> & <dbl> & <lgl>\\\\\n",
       "\\hline\n",
       "\t5 & Fri & 46.36578 & TRUE\\\\\n",
       "\t7 & Sun & 47.01940 & TRUE\\\\\n",
       "\\end{tabular}\n"
      ],
      "text/markdown": [
       "\n",
       "A data.frame: 2 × 3\n",
       "\n",
       "| <!--/--> | days &lt;chr&gt; | temps &lt;dbl&gt; | rain &lt;lgl&gt; |\n",
       "|---|---|---|---|\n",
       "| 5 | Fri | 46.36578 | TRUE |\n",
       "| 7 | Sun | 47.01940 | TRUE |\n",
       "\n"
      ],
      "text/plain": [
       "  days temps    rain\n",
       "5 Fri  46.36578 TRUE\n",
       "7 Sun  47.01940 TRUE"
      ]
     },
     "metadata": {},
     "output_type": "display_data"
    }
   ],
   "source": [
    "subset(sample.df, subset=temps>45)"
   ]
  },
  {
   "cell_type": "code",
   "execution_count": 35,
   "id": "5789bf92-a5b0-4c04-942d-773c957b022d",
   "metadata": {},
   "outputs": [
    {
     "name": "stderr",
     "output_type": "stream",
     "text": [
      "Warning message in xtfrm.data.frame(x):\n",
      "“cannot xtfrm data frames”\n"
     ]
    },
    {
     "data": {
      "text/html": [
       "<table class=\"dataframe\">\n",
       "<caption>A data.frame: 7 × 3</caption>\n",
       "<thead>\n",
       "\t<tr><th></th><th scope=col>days</th><th scope=col>temps</th><th scope=col>rain</th></tr>\n",
       "\t<tr><th></th><th scope=col>&lt;chr&gt;</th><th scope=col>&lt;dbl&gt;</th><th scope=col>&lt;lgl&gt;</th></tr>\n",
       "</thead>\n",
       "<tbody>\n",
       "\t<tr><th scope=row>6</th><td>Sat</td><td>28.84725</td><td>FALSE</td></tr>\n",
       "\t<tr><th scope=row>3</th><td>Wed</td><td>30.68260</td><td>FALSE</td></tr>\n",
       "\t<tr><th scope=row>1</th><td>Mon</td><td>42.65094</td><td>FALSE</td></tr>\n",
       "\t<tr><th scope=row>4</th><td>Thr</td><td>43.05910</td><td> TRUE</td></tr>\n",
       "\t<tr><th scope=row>2</th><td>Tue</td><td>43.09041</td><td>FALSE</td></tr>\n",
       "\t<tr><th scope=row>5</th><td>Fri</td><td>46.36578</td><td> TRUE</td></tr>\n",
       "\t<tr><th scope=row>7</th><td>Sun</td><td>47.01940</td><td> TRUE</td></tr>\n",
       "</tbody>\n",
       "</table>\n"
      ],
      "text/latex": [
       "A data.frame: 7 × 3\n",
       "\\begin{tabular}{r|lll}\n",
       "  & days & temps & rain\\\\\n",
       "  & <chr> & <dbl> & <lgl>\\\\\n",
       "\\hline\n",
       "\t6 & Sat & 28.84725 & FALSE\\\\\n",
       "\t3 & Wed & 30.68260 & FALSE\\\\\n",
       "\t1 & Mon & 42.65094 & FALSE\\\\\n",
       "\t4 & Thr & 43.05910 &  TRUE\\\\\n",
       "\t2 & Tue & 43.09041 & FALSE\\\\\n",
       "\t5 & Fri & 46.36578 &  TRUE\\\\\n",
       "\t7 & Sun & 47.01940 &  TRUE\\\\\n",
       "\\end{tabular}\n"
      ],
      "text/markdown": [
       "\n",
       "A data.frame: 7 × 3\n",
       "\n",
       "| <!--/--> | days &lt;chr&gt; | temps &lt;dbl&gt; | rain &lt;lgl&gt; |\n",
       "|---|---|---|---|\n",
       "| 6 | Sat | 28.84725 | FALSE |\n",
       "| 3 | Wed | 30.68260 | FALSE |\n",
       "| 1 | Mon | 42.65094 | FALSE |\n",
       "| 4 | Thr | 43.05910 |  TRUE |\n",
       "| 2 | Tue | 43.09041 | FALSE |\n",
       "| 5 | Fri | 46.36578 |  TRUE |\n",
       "| 7 | Sun | 47.01940 |  TRUE |\n",
       "\n"
      ],
      "text/plain": [
       "  days temps    rain \n",
       "6 Sat  28.84725 FALSE\n",
       "3 Wed  30.68260 FALSE\n",
       "1 Mon  42.65094 FALSE\n",
       "4 Thr  43.05910  TRUE\n",
       "2 Tue  43.09041 FALSE\n",
       "5 Fri  46.36578  TRUE\n",
       "7 Sun  47.01940  TRUE"
      ]
     },
     "metadata": {},
     "output_type": "display_data"
    }
   ],
   "source": [
    "sorted.df = order(sample.df['temps'])\n",
    "sample.df[sorted.df,]"
   ]
  },
  {
   "cell_type": "code",
   "execution_count": 37,
   "id": "fecf1082-867c-4c39-aabb-89075249cef7",
   "metadata": {},
   "outputs": [
    {
     "name": "stderr",
     "output_type": "stream",
     "text": [
      "Warning message in xtfrm.data.frame(x):\n",
      "“cannot xtfrm data frames”\n"
     ]
    },
    {
     "data": {
      "text/html": [
       "<table class=\"dataframe\">\n",
       "<caption>A data.frame: 7 × 3</caption>\n",
       "<thead>\n",
       "\t<tr><th></th><th scope=col>days</th><th scope=col>temps</th><th scope=col>rain</th></tr>\n",
       "\t<tr><th></th><th scope=col>&lt;chr&gt;</th><th scope=col>&lt;dbl&gt;</th><th scope=col>&lt;lgl&gt;</th></tr>\n",
       "</thead>\n",
       "<tbody>\n",
       "\t<tr><th scope=row>7</th><td>Sun</td><td>47.01940</td><td> TRUE</td></tr>\n",
       "\t<tr><th scope=row>5</th><td>Fri</td><td>46.36578</td><td> TRUE</td></tr>\n",
       "\t<tr><th scope=row>2</th><td>Tue</td><td>43.09041</td><td>FALSE</td></tr>\n",
       "\t<tr><th scope=row>4</th><td>Thr</td><td>43.05910</td><td> TRUE</td></tr>\n",
       "\t<tr><th scope=row>1</th><td>Mon</td><td>42.65094</td><td>FALSE</td></tr>\n",
       "\t<tr><th scope=row>3</th><td>Wed</td><td>30.68260</td><td>FALSE</td></tr>\n",
       "\t<tr><th scope=row>6</th><td>Sat</td><td>28.84725</td><td>FALSE</td></tr>\n",
       "</tbody>\n",
       "</table>\n"
      ],
      "text/latex": [
       "A data.frame: 7 × 3\n",
       "\\begin{tabular}{r|lll}\n",
       "  & days & temps & rain\\\\\n",
       "  & <chr> & <dbl> & <lgl>\\\\\n",
       "\\hline\n",
       "\t7 & Sun & 47.01940 &  TRUE\\\\\n",
       "\t5 & Fri & 46.36578 &  TRUE\\\\\n",
       "\t2 & Tue & 43.09041 & FALSE\\\\\n",
       "\t4 & Thr & 43.05910 &  TRUE\\\\\n",
       "\t1 & Mon & 42.65094 & FALSE\\\\\n",
       "\t3 & Wed & 30.68260 & FALSE\\\\\n",
       "\t6 & Sat & 28.84725 & FALSE\\\\\n",
       "\\end{tabular}\n"
      ],
      "text/markdown": [
       "\n",
       "A data.frame: 7 × 3\n",
       "\n",
       "| <!--/--> | days &lt;chr&gt; | temps &lt;dbl&gt; | rain &lt;lgl&gt; |\n",
       "|---|---|---|---|\n",
       "| 7 | Sun | 47.01940 |  TRUE |\n",
       "| 5 | Fri | 46.36578 |  TRUE |\n",
       "| 2 | Tue | 43.09041 | FALSE |\n",
       "| 4 | Thr | 43.05910 |  TRUE |\n",
       "| 1 | Mon | 42.65094 | FALSE |\n",
       "| 3 | Wed | 30.68260 | FALSE |\n",
       "| 6 | Sat | 28.84725 | FALSE |\n",
       "\n"
      ],
      "text/plain": [
       "  days temps    rain \n",
       "7 Sun  47.01940  TRUE\n",
       "5 Fri  46.36578  TRUE\n",
       "2 Tue  43.09041 FALSE\n",
       "4 Thr  43.05910  TRUE\n",
       "1 Mon  42.65094 FALSE\n",
       "3 Wed  30.68260 FALSE\n",
       "6 Sat  28.84725 FALSE"
      ]
     },
     "metadata": {},
     "output_type": "display_data"
    }
   ],
   "source": [
    "desc.df = order(-sample.df['temps'])\n",
    "sample.df[desc.df,]"
   ]
  },
  {
   "cell_type": "markdown",
   "id": "11740a54-c84a-4ba3-b2f8-0d5882806da5",
   "metadata": {},
   "source": [
    "# Overview of DataFrame Operations <a name=\"overview\"/>\n",
    "\n",
    "[Jump to the Table of Contents](#table)"
   ]
  },
  {
   "cell_type": "markdown",
   "id": "de597587-3f8d-4d84-8154-115386f00a12",
   "metadata": {},
   "source": [
    "## Creating a Dataframe <a name=\"create_dataframe\"/>\n",
    "\n",
    "[Jump to the main heading](#overview)"
   ]
  },
  {
   "cell_type": "code",
   "execution_count": 40,
   "id": "d5bea5ee-67f9-40c4-b316-6ded05b326f3",
   "metadata": {},
   "outputs": [
    {
     "name": "stdout",
     "output_type": "stream",
     "text": [
      "data frame with 0 columns and 0 rows\n",
      "   c1  c2  c3 c4\n",
      "1  42 -27 485  g\n",
      "2  20 -31 494  u\n",
      "3  81 -23 644  c\n",
      "4  52  -7 708  x\n",
      "5  40  -2 773  t\n",
      "6  97  -3 963  h\n",
      "7  94 -14 285  y\n",
      "8  57 -16 307  a\n",
      "9  27 -23 913  t\n",
      "10 89 -13 417  v\n"
     ]
    }
   ],
   "source": [
    "# Create an empty dataframe\n",
    "empty = data.frame()\n",
    "print(empty)\n",
    "\n",
    "# Create Dataframe from vectors\n",
    "c1 = c(floor(runif(10, min=20, max=100)))\n",
    "c2 = c(floor(runif(10, min=-34, max=0)))\n",
    "c3 = c(floor(runif(10, min=100, max=1000)))\n",
    "c4 = sample(letters, 10, replace=TRUE)\n",
    "\n",
    "c.df = data.frame(c1, c2, c3, c4)\n",
    "print(c.df)\n",
    "\n",
    "\n"
   ]
  },
  {
   "cell_type": "markdown",
   "id": "c6712d88-24c2-4127-b762-86417ae8f3ca",
   "metadata": {},
   "source": [
    "## Reading and Writing a Dataframe <a name=\"read_write\"/>\n",
    "\n",
    "[Jump to the Main Heading](#overview)"
   ]
  },
  {
   "cell_type": "code",
   "execution_count": 43,
   "id": "9ae3352b-bb78-48a1-80ac-ec443d37c67c",
   "metadata": {},
   "outputs": [],
   "source": [
    "# Read a csv\n",
    "df = read.csv(\"../data/sample_files.csv\")\n",
    "\n",
    "# Write a csv\n",
    "write.csv(sample.df, file=\"../data/dummy.csv\")"
   ]
  },
  {
   "cell_type": "markdown",
   "id": "15c60c21-25a5-40b9-a219-9cb0fb392cc6",
   "metadata": {},
   "source": [
    "## Getting the Information about the DataFrame <a name=\"info\"/>\n",
    "\n",
    "[Jump to the Main heading](#overview)"
   ]
  },
  {
   "cell_type": "code",
   "execution_count": 44,
   "id": "a0ae497a-bcae-4d2c-8fda-d7e4ec76d9c6",
   "metadata": {},
   "outputs": [
    {
     "data": {
      "text/html": [
       "<table class=\"dataframe\">\n",
       "<caption>A data.frame: 7 × 3</caption>\n",
       "<thead>\n",
       "\t<tr><th scope=col>days</th><th scope=col>temps</th><th scope=col>rain</th></tr>\n",
       "\t<tr><th scope=col>&lt;chr&gt;</th><th scope=col>&lt;dbl&gt;</th><th scope=col>&lt;lgl&gt;</th></tr>\n",
       "</thead>\n",
       "<tbody>\n",
       "\t<tr><td>Mon</td><td>42.65094</td><td>FALSE</td></tr>\n",
       "\t<tr><td>Tue</td><td>43.09041</td><td>FALSE</td></tr>\n",
       "\t<tr><td>Wed</td><td>30.68260</td><td>FALSE</td></tr>\n",
       "\t<tr><td>Thr</td><td>43.05910</td><td> TRUE</td></tr>\n",
       "\t<tr><td>Fri</td><td>46.36578</td><td> TRUE</td></tr>\n",
       "\t<tr><td>Sat</td><td>28.84725</td><td>FALSE</td></tr>\n",
       "\t<tr><td>Sun</td><td>47.01940</td><td> TRUE</td></tr>\n",
       "</tbody>\n",
       "</table>\n"
      ],
      "text/latex": [
       "A data.frame: 7 × 3\n",
       "\\begin{tabular}{lll}\n",
       " days & temps & rain\\\\\n",
       " <chr> & <dbl> & <lgl>\\\\\n",
       "\\hline\n",
       "\t Mon & 42.65094 & FALSE\\\\\n",
       "\t Tue & 43.09041 & FALSE\\\\\n",
       "\t Wed & 30.68260 & FALSE\\\\\n",
       "\t Thr & 43.05910 &  TRUE\\\\\n",
       "\t Fri & 46.36578 &  TRUE\\\\\n",
       "\t Sat & 28.84725 & FALSE\\\\\n",
       "\t Sun & 47.01940 &  TRUE\\\\\n",
       "\\end{tabular}\n"
      ],
      "text/markdown": [
       "\n",
       "A data.frame: 7 × 3\n",
       "\n",
       "| days &lt;chr&gt; | temps &lt;dbl&gt; | rain &lt;lgl&gt; |\n",
       "|---|---|---|\n",
       "| Mon | 42.65094 | FALSE |\n",
       "| Tue | 43.09041 | FALSE |\n",
       "| Wed | 30.68260 | FALSE |\n",
       "| Thr | 43.05910 |  TRUE |\n",
       "| Fri | 46.36578 |  TRUE |\n",
       "| Sat | 28.84725 | FALSE |\n",
       "| Sun | 47.01940 |  TRUE |\n",
       "\n"
      ],
      "text/plain": [
       "  days temps    rain \n",
       "1 Mon  42.65094 FALSE\n",
       "2 Tue  43.09041 FALSE\n",
       "3 Wed  30.68260 FALSE\n",
       "4 Thr  43.05910  TRUE\n",
       "5 Fri  46.36578  TRUE\n",
       "6 Sat  28.84725 FALSE\n",
       "7 Sun  47.01940  TRUE"
      ]
     },
     "metadata": {},
     "output_type": "display_data"
    }
   ],
   "source": [
    "sample.df"
   ]
  },
  {
   "cell_type": "code",
   "execution_count": 45,
   "id": "f7efd12f-4b1b-459b-b5fa-68301e2fe126",
   "metadata": {},
   "outputs": [
    {
     "name": "stdout",
     "output_type": "stream",
     "text": [
      "[1] 7\n"
     ]
    }
   ],
   "source": [
    "print(nrow(sample.df)) # Outputs the number of rows in the dataframe"
   ]
  },
  {
   "cell_type": "code",
   "execution_count": 46,
   "id": "097512ac-13e9-4015-abe6-8e5f0446064d",
   "metadata": {},
   "outputs": [
    {
     "name": "stdout",
     "output_type": "stream",
     "text": [
      "[1] 3\n"
     ]
    }
   ],
   "source": [
    "print(ncol(sample.df)) # Outputs the number of columns in the dataframe"
   ]
  },
  {
   "cell_type": "code",
   "execution_count": 47,
   "id": "e3e97504-78b0-450b-bbf9-a8e38e617e5d",
   "metadata": {},
   "outputs": [
    {
     "name": "stdout",
     "output_type": "stream",
     "text": [
      "[1] \"days\"  \"temps\" \"rain\" \n"
     ]
    }
   ],
   "source": [
    "print(colnames(sample.df)) # Outputs the column names of the dataframe"
   ]
  },
  {
   "cell_type": "code",
   "execution_count": 48,
   "id": "d5335a35-ef88-4051-92e2-231471eaadfe",
   "metadata": {},
   "outputs": [
    {
     "name": "stdout",
     "output_type": "stream",
     "text": [
      "[1] \"1\" \"2\" \"3\" \"4\" \"5\" \"6\" \"7\"\n"
     ]
    }
   ],
   "source": [
    "print(rownames(sample.df)) # Outputs the row names of the dataframe"
   ]
  },
  {
   "cell_type": "markdown",
   "id": "f4731b36-34e1-4c17-876a-aea04839fd95",
   "metadata": {},
   "source": [
    "## Referencing Cells <a name=\"cell\"/>\n",
    "\n",
    "[Jump to the Main Heading](#overview)"
   ]
  },
  {
   "cell_type": "code",
   "execution_count": 51,
   "id": "ca0a66c2-4997-4cfb-ba1b-1f6332387ab8",
   "metadata": {},
   "outputs": [
    {
     "name": "stdout",
     "output_type": "stream",
     "text": [
      "[1] \"Tue\"\n"
     ]
    }
   ],
   "source": [
    "print(sample.df[[2, 1]])"
   ]
  },
  {
   "cell_type": "code",
   "execution_count": 52,
   "id": "dec9ba93-6233-4d60-9d2c-4a7250e0e168",
   "metadata": {},
   "outputs": [
    {
     "name": "stdout",
     "output_type": "stream",
     "text": [
      "[1] \"Tue\"\n"
     ]
    }
   ],
   "source": [
    "print(sample.df[[2, 'days']])"
   ]
  },
  {
   "cell_type": "code",
   "execution_count": 53,
   "id": "85326ac2-8611-4229-81a1-243fc1a70c53",
   "metadata": {},
   "outputs": [
    {
     "name": "stdout",
     "output_type": "stream",
     "text": [
      "[1] 50\n"
     ]
    }
   ],
   "source": [
    "sample.df[[2, 'temps']] = 50\n",
    "print(sample.df[[2, 'temps']])"
   ]
  },
  {
   "cell_type": "markdown",
   "id": "24d40a8c-d771-46bb-a13b-75b798acc631",
   "metadata": {},
   "source": [
    "## Adding Rows <a name=\"add_rows\"/>\n",
    "\n",
    "[Jump to the main heading](#overview)"
   ]
  },
  {
   "cell_type": "code",
   "execution_count": 56,
   "id": "7fae6ed4-5305-4436-8a49-036c102e5272",
   "metadata": {},
   "outputs": [
    {
     "name": "stdout",
     "output_type": "stream",
     "text": [
      "    c1  c2  c3 c4\n",
      "1   42 -27 485  g\n",
      "2   20 -31 494  u\n",
      "3   81 -23 644  c\n",
      "4   52  -7 708  x\n",
      "5   40  -2 773  t\n",
      "6   97  -3 963  h\n",
      "7   94 -14 285  y\n",
      "8   57 -16 307  a\n",
      "9   27 -23 913  t\n",
      "10  89 -13 417  v\n",
      "11 100 -24  19  k\n"
     ]
    }
   ],
   "source": [
    "c.df_new = rbind(c.df, c(100, -24, 19, \"k\"))\n",
    "print(c.df_new)"
   ]
  },
  {
   "cell_type": "markdown",
   "id": "5f3fca94-02ea-4762-899d-35a1ef5b6482",
   "metadata": {},
   "source": [
    "## Adding Columns <a name=\"add_col\"/>\n",
    "\n",
    "[Jump to the Main Heading](#overview)"
   ]
  },
  {
   "cell_type": "code",
   "execution_count": 57,
   "id": "2fbc3d20-4483-4caa-b4fe-dd00582a45ad",
   "metadata": {},
   "outputs": [
    {
     "name": "stdout",
     "output_type": "stream",
     "text": [
      "    c1  c2  c3 c4 c5\n",
      "1   42 -27 485  g  H\n",
      "2   20 -31 494  u  T\n",
      "3   81 -23 644  c  T\n",
      "4   52  -7 708  x  H\n",
      "5   40  -2 773  t  H\n",
      "6   97  -3 963  h  T\n",
      "7   94 -14 285  y  T\n",
      "8   57 -16 307  a  T\n",
      "9   27 -23 913  t  H\n",
      "10  89 -13 417  v  H\n",
      "11 100 -24  19  k  H\n"
     ]
    }
   ],
   "source": [
    "c.df_new = cbind(c.df_new, c5=sample(c(\"H\", \"T\"), 11, replace=TRUE))\n",
    "print(c.df_new)"
   ]
  },
  {
   "cell_type": "markdown",
   "id": "d89b544d-9676-40ce-acb5-709ed449eb46",
   "metadata": {},
   "source": [
    "## Dealing with Missing Value <a name=\"miss_val\"/>\n",
    "\n",
    "[Jump to the Main Heading](#overview)"
   ]
  },
  {
   "cell_type": "code",
   "execution_count": 58,
   "id": "f8741cbe-0d8e-4e7f-bf44-053013032d9f",
   "metadata": {},
   "outputs": [
    {
     "data": {
      "text/html": [
       "FALSE"
      ],
      "text/latex": [
       "FALSE"
      ],
      "text/markdown": [
       "FALSE"
      ],
      "text/plain": [
       "[1] FALSE"
      ]
     },
     "metadata": {},
     "output_type": "display_data"
    }
   ],
   "source": [
    "any(is.na(sample.df))"
   ]
  },
  {
   "cell_type": "code",
   "execution_count": 59,
   "id": "4623f42f-a9ac-41e5-9704-2160dc5425bf",
   "metadata": {},
   "outputs": [
    {
     "data": {
      "text/html": [
       "FALSE"
      ],
      "text/latex": [
       "FALSE"
      ],
      "text/markdown": [
       "FALSE"
      ],
      "text/plain": [
       "[1] FALSE"
      ]
     },
     "metadata": {},
     "output_type": "display_data"
    }
   ],
   "source": [
    "any(is.na(sample.df$temps))"
   ]
  },
  {
   "cell_type": "code",
   "execution_count": null,
   "id": "c8614a68-3ef9-4d33-bab9-582e9a1e1d93",
   "metadata": {},
   "outputs": [],
   "source": []
  }
 ],
 "metadata": {
  "kernelspec": {
   "display_name": "R",
   "language": "R",
   "name": "ir"
  },
  "language_info": {
   "codemirror_mode": "r",
   "file_extension": ".r",
   "mimetype": "text/x-r-source",
   "name": "R",
   "pygments_lexer": "r",
   "version": "4.2.0"
  }
 },
 "nbformat": 4,
 "nbformat_minor": 5
}
