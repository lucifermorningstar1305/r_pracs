{
 "cells": [
  {
   "cell_type": "markdown",
   "id": "5763bdbb-b0ef-4488-a383-3abb979aa0b3",
   "metadata": {},
   "source": [
    "# Introduction to Matrix\n",
    "\n",
    "In this notebook we will learn about the following:\n",
    "\n",
    "- How to Create a Matrix in R\n",
    "- Matrix Arithmetic\n",
    "- Matrix Operations\n",
    "- Matrix Selection and Indexing\n",
    "- Factor and Categorical Matrices\n",
    "\n",
    "So sit tight and enjoy the ride 🚘"
   ]
  },
  {
   "cell_type": "markdown",
   "id": "78a7bacd-fcc7-4807-b593-c0033d897e25",
   "metadata": {},
   "source": [
    "# Table of Contents <a name=\"table\"/>\n",
    "\n",
    "1. [Matrix Creation](#matrix_creation)\n",
    "    - [Creating a Simple Matrix](#simple_mat)\n",
    "    - [Creating Matrix with specific nrow](#specific_nrow)\n",
    "    - [Creating Matrix from Multiple Vectors](#multiple_vectors)\n",
    "    - [Creating Matrix with named columns and rows](#named_columns_rows)\n",
    "2. [Matrix Arithmetic](#matrix_arithmetic)\n",
    "    - [Scalar Operations](#scalar)\n",
    "    - [Logical Operations](#logical)\n",
    "    - [Matrix Calculations](#calculations)\n",
    "3. [Matrix Operations](#matrix_operations)\n",
    "    - [Sum across Columns](#colsum)\n",
    "    - [Sum across Rows](#rowsum)\n",
    "    - [Mean Across Rows](#mean_row)\n",
    "    - [Mean Across Columns](#mean_col)\n",
    "    - [Bind Rows](#bind_row)\n",
    "    - [Bind Columns](#bind_col)\n",
    "4. [Matrix Selection and Indexing](#matrix_selection_indexing)\n",
    "    - [Indexing](#indexing)\n",
    "    - [Selecting](#selecting)\n",
    "    \n",
    "5. [Factor and Categorical Matrix](#factor_categorical)"
   ]
  },
  {
   "cell_type": "markdown",
   "id": "e791231a-fb8f-4507-808a-9cd926a4983f",
   "metadata": {},
   "source": [
    "# Matrix Creating <a name=\"matrix_creation\"/>\n",
    "\n",
    "[Jump to the Table of Contents](#table)"
   ]
  },
  {
   "cell_type": "markdown",
   "id": "f8df13b6-959a-420d-a4c0-275dfe6668eb",
   "metadata": {},
   "source": [
    "## Creating a Simple Matrix <a name=\"simple_mat\"/>\n",
    "\n",
    "[Jump to the Main Header](#matrix_creation)"
   ]
  },
  {
   "cell_type": "code",
   "execution_count": 1,
   "id": "4685d789-acb5-45b6-bea8-7ba7a3c58fcc",
   "metadata": {},
   "outputs": [
    {
     "name": "stdout",
     "output_type": "stream",
     "text": [
      "      [,1]\n",
      " [1,]    1\n",
      " [2,]    2\n",
      " [3,]    3\n",
      " [4,]    4\n",
      " [5,]    5\n",
      " [6,]    6\n",
      " [7,]    7\n",
      " [8,]    8\n",
      " [9,]    9\n",
      "[10,]   10\n"
     ]
    }
   ],
   "source": [
    "mat = matrix(1:10)\n",
    "print(mat)"
   ]
  },
  {
   "cell_type": "markdown",
   "id": "bcfa5aea-02ad-456a-bcd4-a57c6e4411af",
   "metadata": {},
   "source": [
    "## Creating Matrix with specific nrow <a name=\"specific_nrow\"/>\n",
    "[Jump to the Main Header](#matrix_creation)"
   ]
  },
  {
   "cell_type": "code",
   "execution_count": 2,
   "id": "e3130dcc-7f7f-4f96-b3bf-cb5ee60457ae",
   "metadata": {},
   "outputs": [
    {
     "name": "stdout",
     "output_type": "stream",
     "text": [
      "     [,1] [,2] [,3] [,4] [,5]\n",
      "[1,]    1    3    5    7    9\n",
      "[2,]    2    4    6    8   10\n"
     ]
    }
   ],
   "source": [
    "mat_2 = matrix(1:10, nrow=2)\n",
    "print(mat_2)"
   ]
  },
  {
   "cell_type": "code",
   "execution_count": 3,
   "id": "17cc16c6-abff-4f5d-b3dc-97f83fd4497d",
   "metadata": {},
   "outputs": [
    {
     "name": "stdout",
     "output_type": "stream",
     "text": [
      "     [,1] [,2] [,3] [,4] [,5]\n",
      "[1,]    1    2    3    4    5\n",
      "[2,]    6    7    8    9   10\n"
     ]
    }
   ],
   "source": [
    "mat_3 = matrix(1:10, nrow = 2, byrow = TRUE)\n",
    "print(mat_3)"
   ]
  },
  {
   "cell_type": "markdown",
   "id": "bb7030c7-03aa-412f-a11a-17df25ca6ac6",
   "metadata": {},
   "source": [
    "## Creating Matrix from multiple vectors <a name=\"multiple_vectors\"/>\n",
    "[Jump to the Main Header](#matrix_creation)"
   ]
  },
  {
   "cell_type": "code",
   "execution_count": 7,
   "id": "96f161d9-7c8c-4d06-a37d-f30c738cec44",
   "metadata": {},
   "outputs": [
    {
     "name": "stdout",
     "output_type": "stream",
     "text": [
      "     [,1] [,2] [,3] [,4] [,5]\n",
      "[1,]  328  377  276  416  339\n",
      "[2,]   31   49   18   12   44\n"
     ]
    }
   ],
   "source": [
    "vec1 = c(floor(runif(5, min=100, max=500)))\n",
    "vec2 = c(floor(runif(5, min=10, max=50)))\n",
    "\n",
    "comb = c(vec1, vec2)\n",
    "comb.matrix = matrix(comb, byrow=TRUE, nrow=2)\n",
    "print(comb.matrix)"
   ]
  },
  {
   "cell_type": "markdown",
   "id": "00b775b2-6b62-40a0-9096-0882adffd94d",
   "metadata": {},
   "source": [
    "## Creating a Matrix with named columns and rows <a name=\"named_columns_rows\"/>\n",
    "\n",
    "[Jump to the Main Header](#matrix_creation)"
   ]
  },
  {
   "cell_type": "code",
   "execution_count": 10,
   "id": "f8eca865-b189-40f1-98ba-48029fe93b16",
   "metadata": {},
   "outputs": [
    {
     "name": "stdout",
     "output_type": "stream",
     "text": [
      "  Mon Tue Wed Thr Fri\n",
      "A 328 377 276 416 339\n",
      "B  31  49  18  12  44\n"
     ]
    }
   ],
   "source": [
    "days = c(\"Mon\", \"Tue\", \"Wed\", \"Thr\", \"Fri\")\n",
    "comb.names = c(\"A\", \"B\")\n",
    "\n",
    "colnames(comb.matrix) = days # Adds column names\n",
    "rownames(comb.matrix) = comb.names # Adds row names\n",
    "\n",
    "print(comb.matrix)"
   ]
  },
  {
   "cell_type": "markdown",
   "id": "6f266079-a152-46f8-9786-2f4a22fbddda",
   "metadata": {},
   "source": [
    "# Matrix Arithmetic <a name=\"matrix_arithmetic\"/>\n",
    "[Jump to the Table of Contents](#table)"
   ]
  },
  {
   "cell_type": "markdown",
   "id": "12fcdd4c-680f-4639-afe5-c457f65437e8",
   "metadata": {},
   "source": [
    "## Scalar Operations <a name=\"scalar\"/>\n",
    "\n",
    "[Jump to the Main Header](#matrix_arithmetic)"
   ]
  },
  {
   "cell_type": "code",
   "execution_count": 11,
   "id": "b54eb973-1922-4c75-ac3c-97b8330a8ae7",
   "metadata": {},
   "outputs": [
    {
     "name": "stdout",
     "output_type": "stream",
     "text": [
      "     [,1] [,2] [,3] [,4] [,5]\n",
      "[1,]    1    2    3    4    5\n",
      "[2,]    6    7    8    9   10\n",
      "[3,]   11   12   13   14   15\n",
      "[4,]   16   17   18   19   20\n",
      "[5,]   21   22   23   24   25\n"
     ]
    }
   ],
   "source": [
    "# sample matrix\n",
    "mat = matrix(1:25, byrow=TRUE, nrow=5)\n",
    "print(mat)"
   ]
  },
  {
   "cell_type": "code",
   "execution_count": 12,
   "id": "2a23b085-7361-412c-bfea-9cf5562a9063",
   "metadata": {},
   "outputs": [
    {
     "name": "stdout",
     "output_type": "stream",
     "text": [
      "     [,1] [,2] [,3] [,4] [,5]\n",
      "[1,]    2    4    6    8   10\n",
      "[2,]   12   14   16   18   20\n",
      "[3,]   22   24   26   28   30\n",
      "[4,]   32   34   36   38   40\n",
      "[5,]   42   44   46   48   50\n"
     ]
    }
   ],
   "source": [
    "print(mat * 2)"
   ]
  },
  {
   "cell_type": "code",
   "execution_count": 13,
   "id": "6f2e9029-b147-47b4-a5dd-6cf14e5fecd1",
   "metadata": {},
   "outputs": [
    {
     "name": "stdout",
     "output_type": "stream",
     "text": [
      "     [,1] [,2] [,3] [,4] [,5]\n",
      "[1,]  0.1  0.2  0.3  0.4  0.5\n",
      "[2,]  0.6  0.7  0.8  0.9  1.0\n",
      "[3,]  1.1  1.2  1.3  1.4  1.5\n",
      "[4,]  1.6  1.7  1.8  1.9  2.0\n",
      "[5,]  2.1  2.2  2.3  2.4  2.5\n"
     ]
    }
   ],
   "source": [
    "print(mat/10)"
   ]
  },
  {
   "cell_type": "code",
   "execution_count": 14,
   "id": "b1700338-7677-435f-ad34-e3c84058ae49",
   "metadata": {},
   "outputs": [
    {
     "name": "stdout",
     "output_type": "stream",
     "text": [
      "           [,1]       [,2]       [,3]       [,4]       [,5]\n",
      "[1,] 1.00000000 0.50000000 0.33333333 0.25000000 0.20000000\n",
      "[2,] 0.16666667 0.14285714 0.12500000 0.11111111 0.10000000\n",
      "[3,] 0.09090909 0.08333333 0.07692308 0.07142857 0.06666667\n",
      "[4,] 0.06250000 0.05882353 0.05555556 0.05263158 0.05000000\n",
      "[5,] 0.04761905 0.04545455 0.04347826 0.04166667 0.04000000\n"
     ]
    }
   ],
   "source": [
    "print(1/mat)"
   ]
  },
  {
   "cell_type": "markdown",
   "id": "2de6fd77-5e06-4c7a-ace0-6db2eab1e649",
   "metadata": {},
   "source": [
    "## Logical Operations <a name=\"logical\"/>\n",
    "\n",
    "[Jump to the Main Header](#matrix_arithmetic)"
   ]
  },
  {
   "cell_type": "code",
   "execution_count": 16,
   "id": "3b6eba1d-ee84-4d59-9d13-b5a866fa32bd",
   "metadata": {},
   "outputs": [
    {
     "name": "stdout",
     "output_type": "stream",
     "text": [
      "      [,1] [,2] [,3] [,4] [,5]\n",
      "[1,] FALSE TRUE TRUE TRUE TRUE\n",
      "[2,]  TRUE TRUE TRUE TRUE TRUE\n",
      "[3,]  TRUE TRUE TRUE TRUE TRUE\n",
      "[4,]  TRUE TRUE TRUE TRUE TRUE\n",
      "[5,]  TRUE TRUE TRUE TRUE TRUE\n"
     ]
    }
   ],
   "source": [
    "print(mat > 1)"
   ]
  },
  {
   "cell_type": "code",
   "execution_count": 17,
   "id": "b5fd47a7-ac6e-4e8f-9ed1-2da706df0f29",
   "metadata": {},
   "outputs": [
    {
     "name": "stdout",
     "output_type": "stream",
     "text": [
      " [1]  1  6 11  2  7 12  3  8 13  4  9 14  5 10\n"
     ]
    }
   ],
   "source": [
    "print(mat[mat < 15])"
   ]
  },
  {
   "cell_type": "markdown",
   "id": "cd5055f4-4cda-4718-bc15-8c5b053475f2",
   "metadata": {},
   "source": [
    "## Matrix Calculations <a name=\"calculations\"/>\n",
    "\n",
    "[Jump to the Main Header](#matrix_arithmetic)"
   ]
  },
  {
   "cell_type": "code",
   "execution_count": 18,
   "id": "fc646373-0ffb-4e6e-870b-0ae3ec21f7aa",
   "metadata": {},
   "outputs": [
    {
     "name": "stdout",
     "output_type": "stream",
     "text": [
      "     [,1] [,2] [,3] [,4] [,5]\n",
      "[1,]    2    4    6    8   10\n",
      "[2,]   12   14   16   18   20\n",
      "[3,]   22   24   26   28   30\n",
      "[4,]   32   34   36   38   40\n",
      "[5,]   42   44   46   48   50\n"
     ]
    }
   ],
   "source": [
    "print(mat + mat)"
   ]
  },
  {
   "cell_type": "code",
   "execution_count": 19,
   "id": "b0a84d8e-fc99-4e98-9abf-a299a37d793e",
   "metadata": {},
   "outputs": [
    {
     "name": "stdout",
     "output_type": "stream",
     "text": [
      "     [,1] [,2] [,3] [,4] [,5]\n",
      "[1,]    1    4    9   16   25\n",
      "[2,]   36   49   64   81  100\n",
      "[3,]  121  144  169  196  225\n",
      "[4,]  256  289  324  361  400\n",
      "[5,]  441  484  529  576  625\n"
     ]
    }
   ],
   "source": [
    "print(mat * mat) # Element-wise multiplication"
   ]
  },
  {
   "cell_type": "code",
   "execution_count": 21,
   "id": "93816587-d2a2-499a-ad59-8d343ae6dc06",
   "metadata": {},
   "outputs": [
    {
     "name": "stdout",
     "output_type": "stream",
     "text": [
      "     [,1] [,2] [,3] [,4] [,5]\n",
      "[1,]  215  230  245  260  275\n",
      "[2,]  490  530  570  610  650\n",
      "[3,]  765  830  895  960 1025\n",
      "[4,] 1040 1130 1220 1310 1400\n",
      "[5,] 1315 1430 1545 1660 1775\n"
     ]
    }
   ],
   "source": [
    "print(mat %*% mat) # Matrix Multiplication"
   ]
  },
  {
   "cell_type": "markdown",
   "id": "9ecded1e-3fd5-4c4a-a196-773eb51a257e",
   "metadata": {},
   "source": [
    "# Matrix Operations <a name=\"matrix_operations\"/>\n",
    "\n",
    "[Jump to the Table of Contents](#table)"
   ]
  },
  {
   "cell_type": "code",
   "execution_count": 22,
   "id": "1d16a6e8-5763-446e-a5ba-92704c5e11b7",
   "metadata": {},
   "outputs": [
    {
     "name": "stdout",
     "output_type": "stream",
     "text": [
      "     Mon Tue Wed Thr Fri\n",
      "GOOG 474 409 442 481 476\n",
      "MSFT 296 254 211 284 222\n"
     ]
    }
   ],
   "source": [
    "# Sample matrix simulating the stock price of Google and Microsoft\n",
    "goog = c(floor(runif(5, min=400, max=500)))\n",
    "msft = c(floor(runif(5, min=200, max=300)))\n",
    "\n",
    "stocks = c(goog, msft)\n",
    "stocks.matrix = matrix(stocks, byrow=TRUE, nrow=2)\n",
    "\n",
    "days = c(\"Mon\", \"Tue\", \"Wed\", \"Thr\", \"Fri\")\n",
    "comp = c(\"GOOG\", \"MSFT\")\n",
    "\n",
    "colnames(stocks.matrix) = days\n",
    "rownames(stocks.matrix) = comp\n",
    "\n",
    "print(stocks.matrix)"
   ]
  },
  {
   "cell_type": "markdown",
   "id": "3ba0a5a9-86a0-49f5-8098-38f6695cce9e",
   "metadata": {},
   "source": [
    "## Sum across Columns <a name=\"colsum\"/>\n",
    "\n",
    "[Jump to the Main Header](#matrix_operations)"
   ]
  },
  {
   "cell_type": "code",
   "execution_count": 24,
   "id": "8d7483ec-dd10-43fc-9349-2fe7c418a9e6",
   "metadata": {},
   "outputs": [
    {
     "name": "stdout",
     "output_type": "stream",
     "text": [
      "Mon Tue Wed Thr Fri \n",
      "770 663 653 765 698 \n"
     ]
    }
   ],
   "source": [
    "print(colSums(stocks.matrix))"
   ]
  },
  {
   "cell_type": "markdown",
   "id": "74a2e11e-f068-4d10-93ec-c7fa7c6deb68",
   "metadata": {},
   "source": [
    "## Sum across Rows <a name=\"rowsum\"/>\n",
    "\n",
    "[Jump to the Main Header](#matrix_operations)"
   ]
  },
  {
   "cell_type": "code",
   "execution_count": 25,
   "id": "0f94bf33-2876-493b-9566-e11b61704a0b",
   "metadata": {},
   "outputs": [
    {
     "name": "stdout",
     "output_type": "stream",
     "text": [
      "GOOG MSFT \n",
      "2282 1267 \n"
     ]
    }
   ],
   "source": [
    "print(rowSums(stocks.matrix))"
   ]
  },
  {
   "cell_type": "markdown",
   "id": "c1c9d9db-8f9b-4a5b-9112-f1efb4029420",
   "metadata": {},
   "source": [
    "## Mean Across Rows <a name=\"mean_row\"/>\n",
    "\n",
    "[Jump to the Main Header](#matrix_operations)"
   ]
  },
  {
   "cell_type": "code",
   "execution_count": 26,
   "id": "9543988e-6d27-47e8-8332-5c377325a084",
   "metadata": {},
   "outputs": [
    {
     "name": "stdout",
     "output_type": "stream",
     "text": [
      " GOOG  MSFT \n",
      "456.4 253.4 \n"
     ]
    }
   ],
   "source": [
    "print(rowMeans(stocks.matrix))"
   ]
  },
  {
   "cell_type": "markdown",
   "id": "f7636e75-7f56-4c6a-a0d1-264f19ab44b8",
   "metadata": {},
   "source": [
    "## Mean Across Columns <a name=\"mean_col\"/>\n",
    "\n",
    "[Jump to the Main Header](#matrix_operations)"
   ]
  },
  {
   "cell_type": "code",
   "execution_count": 27,
   "id": "d698720c-5df5-4263-aa2d-793f78558b23",
   "metadata": {},
   "outputs": [
    {
     "name": "stdout",
     "output_type": "stream",
     "text": [
      "  Mon   Tue   Wed   Thr   Fri \n",
      "385.0 331.5 326.5 382.5 349.0 \n"
     ]
    }
   ],
   "source": [
    "print(colMeans(stocks.matrix))"
   ]
  },
  {
   "cell_type": "markdown",
   "id": "cdf62e0c-5f77-469f-ba21-a75cc9cfc3bb",
   "metadata": {},
   "source": [
    "## Bind Rows <a name=\"bind_row\"/>\n",
    "\n",
    "[Jump to the Main Header](#matrix_operations)"
   ]
  },
  {
   "cell_type": "code",
   "execution_count": 28,
   "id": "246c1b43-7175-4933-a1d1-e2f51cca2582",
   "metadata": {},
   "outputs": [
    {
     "name": "stdout",
     "output_type": "stream",
     "text": [
      "     Mon Tue Wed Thr Fri\n",
      "GOOG 474 409 442 481 476\n",
      "MSFT 296 254 211 284 222\n",
      "FB   125 133 107 139 107\n"
     ]
    }
   ],
   "source": [
    "FB = c(floor(runif(5, min=100, max=150)))\n",
    "tech.stocks = rbind(stocks.matrix, FB) # Bind by rows\n",
    "print(tech.stocks)"
   ]
  },
  {
   "cell_type": "markdown",
   "id": "858f3cd3-114d-494e-8969-b48798debcad",
   "metadata": {},
   "source": [
    "## Bind Columns <a name=\"bind_col\"/>\n",
    "\n",
    "[Jump to the Main Header](#matrix_operations)"
   ]
  },
  {
   "cell_type": "code",
   "execution_count": 31,
   "id": "2f8dd5c8-d9dd-4a47-89aa-45d8b9a1cba8",
   "metadata": {},
   "outputs": [
    {
     "name": "stdout",
     "output_type": "stream",
     "text": [
      "     Mon Tue Wed Thr Fri   avg\n",
      "GOOG 474 409 442 481 476 456.4\n",
      "MSFT 296 254 211 284 222 253.4\n",
      "FB   125 133 107 139 107 122.2\n"
     ]
    }
   ],
   "source": [
    "avg = rowMeans(tech.stocks)\n",
    "tech.stocks = cbind(tech.stocks, avg)\n",
    "print(tech.stocks)"
   ]
  },
  {
   "cell_type": "markdown",
   "id": "0abbd153-3cb1-4e57-9ae5-3231e3de8d84",
   "metadata": {},
   "source": [
    "# Matrix Selection and Indexing <a name=\"matrix_selection_indexing\"/>\n",
    "\n",
    "[Jump to the Table of Contents](#table)"
   ]
  },
  {
   "cell_type": "code",
   "execution_count": 32,
   "id": "8a926b55-eca9-44c0-a94b-242815e1094c",
   "metadata": {},
   "outputs": [
    {
     "name": "stdout",
     "output_type": "stream",
     "text": [
      "     [,1] [,2] [,3] [,4] [,5]\n",
      "[1,]    1    2    3    4    5\n",
      "[2,]    6    7    8    9   10\n",
      "[3,]   11   12   13   14   15\n",
      "[4,]   16   17   18   19   20\n",
      "[5,]   21   22   23   24   25\n"
     ]
    }
   ],
   "source": [
    "# Create a sample matrix\n",
    "mat = matrix(1:25, byrow=TRUE, nrow=5)\n",
    "print(mat)"
   ]
  },
  {
   "cell_type": "markdown",
   "id": "745a073d-8ed8-449c-be3d-7726b216de0e",
   "metadata": {},
   "source": [
    "## Indexing <a name=\"indexing\"/>\n",
    "\n",
    "[Jump to the main header](#matrix_selection_indexing)"
   ]
  },
  {
   "cell_type": "code",
   "execution_count": 33,
   "id": "bdda77a4-bd88-4068-9254-4f352fc774ba",
   "metadata": {},
   "outputs": [
    {
     "name": "stdout",
     "output_type": "stream",
     "text": [
      "[1] 1 2 3 4 5\n"
     ]
    }
   ],
   "source": [
    "print(mat[1, ]) # The Complete first row"
   ]
  },
  {
   "cell_type": "code",
   "execution_count": 34,
   "id": "39dedc04-dfd6-4467-ad64-c5f9df20a631",
   "metadata": {},
   "outputs": [
    {
     "name": "stdout",
     "output_type": "stream",
     "text": [
      "[1]  2  7 12 17 22\n"
     ]
    }
   ],
   "source": [
    "print(mat[ ,2]) # The Complete 2nd column"
   ]
  },
  {
   "cell_type": "code",
   "execution_count": 35,
   "id": "b07551ca-f08e-490d-9d73-25d9e838a6fa",
   "metadata": {},
   "outputs": [
    {
     "name": "stdout",
     "output_type": "stream",
     "text": [
      "     [,1] [,2] [,3] [,4] [,5]\n",
      "[1,]    1    2    3    4    5\n",
      "[2,]    6    7    8    9   10\n",
      "[3,]   11   12   13   14   15\n"
     ]
    }
   ],
   "source": [
    "print(mat[1:3, ]) # First 3 rows of the matrix"
   ]
  },
  {
   "cell_type": "code",
   "execution_count": 39,
   "id": "227c8f42-ddf1-4578-bc5d-425ee93bfd1b",
   "metadata": {},
   "outputs": [
    {
     "name": "stdout",
     "output_type": "stream",
     "text": [
      "     [,1] [,2]\n",
      "[1,]    4    5\n",
      "[2,]    9   10\n",
      "[3,]   14   15\n",
      "[4,]   19   20\n",
      "[5,]   24   25\n"
     ]
    }
   ],
   "source": [
    "print(mat[, 4:5]) # Last 2 columns"
   ]
  },
  {
   "cell_type": "markdown",
   "id": "cf8e7ee1-fb34-42dc-9714-0f6a25c5c5c8",
   "metadata": {},
   "source": [
    "## Selecting <a name=\"selecting\"/>\n",
    "\n",
    "[Jump to the Main Header](#matrix_selection_indexing)"
   ]
  },
  {
   "cell_type": "code",
   "execution_count": 40,
   "id": "035a0635-7c46-47be-a28d-eca64e82f4fc",
   "metadata": {},
   "outputs": [
    {
     "name": "stdout",
     "output_type": "stream",
     "text": [
      "     [,1] [,2] [,3]\n",
      "[1,]    1    2    3\n",
      "[2,]    6    7    8\n",
      "[3,]   11   12   13\n"
     ]
    }
   ],
   "source": [
    "print(mat[1:3, 1:3]) # Top-left square"
   ]
  },
  {
   "cell_type": "code",
   "execution_count": 41,
   "id": "d462f833-9443-4add-8a23-ae2842f285cc",
   "metadata": {},
   "outputs": [
    {
     "name": "stdout",
     "output_type": "stream",
     "text": [
      "[1] 2\n"
     ]
    }
   ],
   "source": [
    "print(mat[1, 2]) # A specific element"
   ]
  },
  {
   "cell_type": "markdown",
   "id": "49845f7b-7f60-4955-abc7-e36bcace565b",
   "metadata": {},
   "source": [
    "# Factor and Categorical Matrix <a name=\"factor_categorical\"/>\n",
    "\n",
    "[Jump to the Table of Contents](#table)"
   ]
  },
  {
   "cell_type": "code",
   "execution_count": 51,
   "id": "3105d515-d091-4cd2-ad17-0173c4bdbbd9",
   "metadata": {},
   "outputs": [
    {
     "name": "stdout",
     "output_type": "stream",
     "text": [
      "[1] d d d d c\n",
      "Levels: c d\n",
      " [1] cold med  med  cold med  hot  med  cold med  med \n",
      "Levels: cold < med < hot\n"
     ]
    }
   ],
   "source": [
    "# Create a random vector\n",
    "animal = sample(c('c', 'd'), 5, replace=TRUE)\n",
    "id = c(1:5)\n",
    "print(factor(animal))\n",
    "\n",
    "fact.animal = factor(animal) # Nominal Categorical variables\n",
    "temps = sample(c('cold', 'med', 'hot'), 10, replace=TRUE)\n",
    "fact.temp = factor(temps, ordered=TRUE, levels=c(\"cold\", \"med\", \"hot\")) # Ordinal Categorical Variables\n",
    "\n",
    "print(fact.temp)\n"
   ]
  },
  {
   "cell_type": "markdown",
   "id": "2de8ad25-db00-41c0-b2c6-952a43a74ad0",
   "metadata": {},
   "source": [
    "# THE END 🎩"
   ]
  }
 ],
 "metadata": {
  "kernelspec": {
   "display_name": "R",
   "language": "R",
   "name": "ir"
  },
  "language_info": {
   "codemirror_mode": "r",
   "file_extension": ".r",
   "mimetype": "text/x-r-source",
   "name": "R",
   "pygments_lexer": "r",
   "version": "4.2.0"
  }
 },
 "nbformat": 4,
 "nbformat_minor": 5
}
